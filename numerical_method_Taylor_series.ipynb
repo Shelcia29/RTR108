{
  "nbformat": 4,
  "nbformat_minor": 0,
  "metadata": {
    "colab": {
      "name": " numerical_method_Taylor_series.ipynb",
      "provenance": [],
      "collapsed_sections": [],
      "authorship_tag": "ABX9TyPtPVZGlpsPZnbXY/ZIIeDl",
      "include_colab_link": true
    },
    "kernelspec": {
      "name": "python3",
      "display_name": "Python 3"
    }
  },
  "cells": [
    {
      "cell_type": "markdown",
      "metadata": {
        "id": "view-in-github",
        "colab_type": "text"
      },
      "source": [
        "<a href=\"https://colab.research.google.com/github/Shelcia29/RTR108/blob/master/numerical_method_Taylor_series.ipynb\" target=\"_parent\"><img src=\"https://colab.research.google.com/assets/colab-badge.svg\" alt=\"Open In Colab\"/></a>"
      ]
    },
    {
      "cell_type": "code",
      "metadata": {
        "id": "-Pf_CNlUmOdG",
        "colab_type": "code",
        "outputId": "4e222d0c-0a87-497d-c910-4d53896de6f0",
        "colab": {
          "base_uri": "https://localhost:8080/",
          "height": 621
        }
      },
      "source": [
        "## -*- coding: Taylor series expansion for asin-*-\n",
        "import sympy as sy                    # importing sympy function as sy \n",
        "import numpy as np                    # importing numpy function as np\n",
        "from sympy.functions import asin,cos  # importing asin, cos math.function from sympy func\n",
        "import matplotlib.pyplot as plt       # importing matplotlib.pyplot function as plt\n",
        "plt.style.use(\"ggplot\")               # we specifiy what style we want to use. Matplotlib comes with a few styles already.\n",
        "print(\"Taylor series expansion of asin(x)\")   #title for 1st part \n",
        "\n",
        "# Define the variable and the function to approximate\n",
        "x = sy.Symbol('x')\n",
        "f = asin(x)\n",
        "\n",
        "# Factorial function of given number\n",
        "def factorial(n):\n",
        "     if n <= 0:\n",
        "          return 1                            \n",
        "     else:\n",
        "          return n*factorial(n-1)\n",
        "\n",
        "# Taylor approximation at x0 of the function 'function'\n",
        "def taylor(function,x0,n):\n",
        "    i = 0\n",
        "    p = 0\n",
        "    while i <= n:\n",
        "        p = p + (function.diff(x,i).subs(x,x0))/(factorial(i))*(x-x0)**i\n",
        "        i += 1\n",
        "    return p\n",
        "\n",
        "# Plot results\n",
        "def plot():\n",
        "    x_lims = [-np.pi/2,np.pi/2]\n",
        "    x1 = np.linspace(-1,1,800)     #The np.linspace() function returns evenly spaced numbers over the specified interval\n",
        "    y1 = []\n",
        "\n",
        "# Approximate up until 10 starting from 1 and using steps of 2\n",
        "    for j in range(1,10,2):                       #Python built-in function range() generates the integer numbers between the given start integer to the stop integer, i.e., It returns a range object.\n",
        "        func = taylor(f,0,j)\n",
        "        print('n='+str(j),func)                    \n",
        "        for k in x1:\n",
        "            y1.append(func.subs(x,k))\n",
        "        plt.plot(x1,y1,label='order '+str(j))\n",
        "        y1 = []\n",
        "\n",
        "# Plot the function to approximate (asin)\n",
        "    plt.plot(x1,np.arcsin(x1),label='asin of x')\n",
        "    plt.xlim(x_lims)\n",
        "    plt.ylim([-np.pi/2,np.pi/2])\n",
        "    plt.xlabel('x')\n",
        "    plt.ylabel('y')\n",
        "    plt.legend()\n",
        "    plt.grid(True)                              \n",
        "    plt.title('Taylor series of asin')          #title for picture\n",
        "    print('Image description: As the degree of the Taylor polynomial rises, it approaches the correct function. This image shows asin(x) and its Taylor approximations, polynomials of degree 1, 3, 5, 7 and 9.')\n",
        "    plt.show()\n",
        "plot()\n",
        "\n",
        "\n",
        "\n",
        "# -*- coding: Calculation of asin value -*-\n",
        "from math import asin                                     # importing asin function from math module\n",
        "print(\"Taylor series calculation of asin(x)\")                 # title for second part\n",
        "def my_asin(x):                                               \n",
        "   k = 0\n",
        "   a = x\n",
        "   S = a\n",
        "   print(\"a0 = %6.2f S0 = %6.2f\"%(a,S))         #The format specifier in the slot says how to format the value:\n",
        "                                                          #6.2f means: 6 spaces allocated to this value,\n",
        "                                                          #Treat is as a floating-point number.\n",
        "                                                          #2 places to the right of the decimal point.\n",
        "   while k < 4:                                           #while loop repeats the sequence of actions many times until some condition evaluates to False\n",
        "     k = k + 1\n",
        "     R = ((x**(2))*((2*k-1)**(2)))/((2*k)*(2*k+1))\n",
        "     a = a * R\n",
        "     S = S + a\n",
        "     print(\"a%d = %6.2f S%d = %6.2f\"%(k,a,k,S))\n",
        "   print(\"The Final answer\")   \n",
        "   return S\n",
        "x = float(input(\"Enter argument (x): \"))                 #the float()built-in function convert the input string to float type\n",
        "y = asin(x)\n",
        "print(\"standard asin(%.2f) = %6.2f\"%(x,y))               # %.2f ensures that if the input is entered as 0.746\n",
        "                                                         # it converts to 0.75 because %.2f indicates that only two digits after decimal point\n",
        "yy = my_asin(x)\n",
        "print(\"my asin(%.2f) = %6.2f\"%(x,yy))\n"
      ],
      "execution_count": 52,
      "outputs": [
        {
          "output_type": "stream",
          "text": [
            "Taylor series expansion of asin(x)\n",
            "n=1 x\n",
            "n=3 x**3/6 + x\n",
            "n=5 3*x**5/40 + x**3/6 + x\n",
            "n=7 5*x**7/112 + 3*x**5/40 + x**3/6 + x\n",
            "n=9 35*x**9/1152 + 5*x**7/112 + 3*x**5/40 + x**3/6 + x\n",
            "Image description: As the degree of the Taylor polynomial rises, it approaches the correct function. This image shows asin(x) and its Taylor approximations, polynomials of degree 1, 3, 5, 7 and 9.\n"
          ],
          "name": "stdout"
        },
        {
          "output_type": "display_data",
          "data": {
            "image/png": "[encoded data removed]",
            "text/plain": [
              "<Figure size 432x288 with 1 Axes>"
            ]
          },
          "metadata": {
            "tags": []
          }
        },
        {
          "output_type": "stream",
          "text": [
            "Taylor series calculation of asin(x)\n",
            "Enter argument (x): 0.75\n",
            "standard asin(0.75) =   0.85\n",
            "a0 =   0.75 S0 =   0.75\n",
            "a1 =   0.07 S1 =   0.82\n",
            "a2 =   0.02 S2 =   0.84\n",
            "a3 =   0.01 S3 =   0.84\n",
            "a4 =   0.00 S4 =   0.85\n",
            "The Final answer\n",
            "my asin(0.75) =   0.85\n"
          ],
          "name": "stdout"
        }
      ]
    }
  ]
}