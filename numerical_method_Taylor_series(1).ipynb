{
  "nbformat": 4,
  "nbformat_minor": 0,
  "metadata": {
    "colab": {
      "name": "numerical_method_Taylor_series(1).ipynb",
      "provenance": [],
      "collapsed_sections": [],
      "authorship_tag": "ABX9TyM5pp4F6IuxPCd0aVkZ5BPm",
      "include_colab_link": true
    },
    "kernelspec": {
      "name": "python3",
      "display_name": "Python 3"
    }
  },
  "cells": [
    {
      "cell_type": "markdown",
      "metadata": {
        "id": "view-in-github",
        "colab_type": "text"
      },
      "source": [
        "<a href=\"https://colab.research.google.com/github/Shelcia29/RTR108/blob/master/numerical_method_Taylor_series(1).ipynb\" target=\"_parent\"><img src=\"https://colab.research.google.com/assets/colab-badge.svg\" alt=\"Open In Colab\"/></a>"
      ]
    },
    {
      "cell_type": "markdown",
      "metadata": {
        "id": "n1B3OFIxPSDM",
        "colab_type": "text"
      },
      "source": [
        "#TAYLOR SERIES EXPANSION for **asin(x)** function"
      ]
    },
    {
      "cell_type": "code",
      "metadata": {
        "id": "Ra9KpeZuKOXB",
        "colab_type": "code",
        "colab": {}
      },
      "source": [
        "## -*- coding: Taylor series expansion for asin-*-\n",
        "import sympy as sy                    \n",
        "import numpy as np                    \n",
        "from sympy.functions import asin,cos  \n",
        "import matplotlib.pyplot as plt "
      ],
      "execution_count": 0,
      "outputs": []
    },
    {
      "cell_type": "markdown",
      "metadata": {
        "id": "FYYTsuS7KfPX",
        "colab_type": "text"
      },
      "source": [
        "We have specified what style we want to use in plotting, Matplotlib comes with a few styles already.\n"
      ]
    },
    {
      "cell_type": "code",
      "metadata": {
        "id": "Qd99gTEgMBUT",
        "colab_type": "code",
        "colab": {}
      },
      "source": [
        "plt.style.use(\"ggplot\")"
      ],
      "execution_count": 0,
      "outputs": []
    },
    {
      "cell_type": "markdown",
      "metadata": {
        "id": "1e0FQPI1Ld9L",
        "colab_type": "text"
      },
      "source": [
        "## Title for the 1st part "
      ]
    },
    {
      "cell_type": "code",
      "metadata": {
        "id": "2JiZLYDLLCpm",
        "colab_type": "code",
        "outputId": "6be57ad3-7c18-46cd-ee9a-616cf46354ce",
        "colab": {
          "base_uri": "https://localhost:8080/",
          "height": 34
        }
      },
      "source": [
        "print(\"Taylor series expansion of asin(x)\")  "
      ],
      "execution_count": 0,
      "outputs": [
        {
          "output_type": "stream",
          "text": [
            "Taylor series expansion of asin\n"
          ],
          "name": "stdout"
        }
      ]
    },
    {
      "cell_type": "markdown",
      "metadata": {
        "id": "ISjAvq-XL86o",
        "colab_type": "text"
      },
      "source": [
        "## Define the variable and the function to approximate"
      ]
    },
    {
      "cell_type": "code",
      "metadata": {
        "id": "JHBXXc_yLofg",
        "colab_type": "code",
        "colab": {}
      },
      "source": [
        "x = sy.Symbol('x')\n",
        "f = asin(x)"
      ],
      "execution_count": 0,
      "outputs": []
    },
    {
      "cell_type": "markdown",
      "metadata": {
        "id": "oaKeHj88Mf-Q",
        "colab_type": "text"
      },
      "source": [
        "## Factorial function of given number"
      ]
    },
    {
      "cell_type": "code",
      "metadata": {
        "id": "L1Ejrh0wMlBz",
        "colab_type": "code",
        "colab": {}
      },
      "source": [
        "def factorial(n):\n",
        "     if n <= 0:\n",
        "          return 1                            \n",
        "     else:\n",
        "          return n*factorial(n-1)"
      ],
      "execution_count": 0,
      "outputs": []
    },
    {
      "cell_type": "markdown",
      "metadata": {
        "id": "z7ftWlnKMqkP",
        "colab_type": "text"
      },
      "source": [
        "## Taylor approximation at x0 of the function 'function'"
      ]
    },
    {
      "cell_type": "code",
      "metadata": {
        "id": "gLjqSqEvMulF",
        "colab_type": "code",
        "colab": {}
      },
      "source": [
        "def taylor(function,x0,n):\n",
        "    i = 0\n",
        "    p = 0\n",
        "    while i <= n:\n",
        "        p = p + (function.diff(x,i).subs(x,x0))/(factorial(i))*(x-x0)**i\n",
        "        i += 1\n",
        "    return p"
      ],
      "execution_count": 0,
      "outputs": []
    },
    {
      "cell_type": "markdown",
      "metadata": {
        "id": "JCV-fdPFM-ay",
        "colab_type": "text"
      },
      "source": [
        "## Plot results\n",
        "### The np.linspace() function returns evenly spaced numbers over the specified interval"
      ]
    },
    {
      "cell_type": "code",
      "metadata": {
        "id": "8jbLQqvONPp2",
        "colab_type": "code",
        "colab": {}
      },
      "source": [
        "def plot():\n",
        "    x_lims = [-5,5]\n",
        "    x1 = np.linspace(x_lims[0],x_lims[1],800)\n",
        "    y1 = []"
      ],
      "execution_count": 0,
      "outputs": []
    },
    {
      "cell_type": "markdown",
      "metadata": {
        "id": "phKihfbnNcgD",
        "colab_type": "text"
      },
      "source": [
        "## Approximate up until 10 starting from 1 and using steps of 2\n",
        "### Python built-in function range() generates the integer numbers between the given start integer(1) to the stop integer(10)"
      ]
    },
    {
      "cell_type": "code",
      "metadata": {
        "id": "FrVPXRsWNwaD",
        "colab_type": "code",
        "colab": {}
      },
      "source": [
        "for j in range(1,10,2):      \n",
        "        func = taylor(f,0,j)\n",
        "        print('n='+str(j),func)                    \n",
        "        for k in x1:\n",
        "            y1.append(func.subs(x,k))\n",
        "        plt.plot(x1,y1,label='order '+str(j))\n",
        "        y1 = []"
      ],
      "execution_count": 0,
      "outputs": []
    },
    {
      "cell_type": "markdown",
      "metadata": {
        "id": "862dnfJ1N6bA",
        "colab_type": "text"
      },
      "source": [
        "## Plot the function to approximate (asin)"
      ]
    },
    {
      "cell_type": "code",
      "metadata": {
        "id": "5hiHWmNjOAAe",
        "colab_type": "code",
        "colab": {}
      },
      "source": [
        "    plt.plot(x1,np.sin(x1),label='asin of x')\n",
        "    plt.xlim(x_lims)\n",
        "    plt.ylim([-5,5])\n",
        "    plt.xlabel('x')\n",
        "    plt.ylabel('y')\n",
        "    plt.legend()\n",
        "    plt.grid(True)                              \n",
        "    plt.title('Taylor series of asin') \n",
        "    plt.show()\n",
        "plot()"
      ],
      "execution_count": 0,
      "outputs": []
    },
    {
      "cell_type": "markdown",
      "metadata": {
        "id": "-_N5_20rP0BC",
        "colab_type": "text"
      },
      "source": [
        "#CALCULATION of **asin(x)** value"
      ]
    },
    {
      "cell_type": "code",
      "metadata": {
        "id": "FRw_RxINQDWZ",
        "colab_type": "code",
        "colab": {}
      },
      "source": [
        "from math import asin                                     \n",
        "print(\"Taylor series calculation of asin(x)\")                 \n",
        "def my_asin(x):                                               \n",
        "   k = 0\n",
        "   a = x\n",
        "   S = a\n",
        "   print(\"a0 = %6.2f S0 = %6.2f\"%(a,S))"
      ],
      "execution_count": 0,
      "outputs": []
    },
    {
      "cell_type": "markdown",
      "metadata": {
        "id": "ZoUXNb_EQlt2",
        "colab_type": "text"
      },
      "source": [
        "### The format specifier in the above print slot says how to format the value: %6.2f means: \n",
        "1. \"6\" indicates 6 spaces allocated to this value.\n",
        "2. \"f\" indicates treat is as a floating-point number.\n",
        "3. \"2\" indicates places to the right of the decimal point (i.e.,)only two digits after the decimal point"
      ]
    },
    {
      "cell_type": "markdown",
      "metadata": {
        "id": "k8xPEBJzSgXp",
        "colab_type": "text"
      },
      "source": [
        "### *while* loop repeats the sequence of actions many times until some condition evaluates to False, here *(k<4)*"
      ]
    },
    {
      "cell_type": "markdown",
      "metadata": {
        "id": "0tDP8icYS6xq",
        "colab_type": "text"
      },
      "source": [
        "### From previous commond where (k=0) the value of a and S are saved as:\n",
        "\n",
        "\n",
        "*   a0 = x (input = 0.75) = 0.75\n",
        "*   S0 = a0 = 0.75\n",
        "\n",
        "\n",
        "\n"
      ]
    },
    {
      "cell_type": "code",
      "metadata": {
        "id": "eTdpXH7LR22I",
        "colab_type": "code",
        "colab": {}
      },
      "source": [
        " while k < 4:                                          \n",
        "     k = k + 1\n",
        "     R = ((x**(2))*((2*k-1)**(2)))/((2*k)*(2*k+1))\n",
        "     a = a * R\n",
        "     S = S + a\n",
        "     print(\"a%d = %6.2f S%d = %6.2f\"%(k,a,k,S))\n",
        "   print(\"The Final answer\")\n",
        "   return S"
      ],
      "execution_count": 0,
      "outputs": []
    },
    {
      "cell_type": "markdown",
      "metadata": {
        "id": "eNK34AEteIfp",
        "colab_type": "text"
      },
      "source": [
        "### From the above commands where (k<4), we obtain the values of a and S as follows:   \n",
        "\n",
        "1.   k = 1, x = 0.75                  \n",
        "  a1 = a0 * R = x * ((x**(2))*((2*k-1)**(2)))/((2*k)*(2*k+1))                        \n",
        "  a1 = 0.07                    \n",
        "  S1 = a1 + S0 = 0.07 + 0.75                         \n",
        "  S1 = 0.82\n",
        "\n",
        "2.   k = 2, x = 0.75                \n",
        "a2 = a1 * R = x * ((x**(2))*((2*k-1)**(2)))/((2*k)*(2*k+1))                   a2 = 0.017 = 0.02              \n",
        "S2 = a2 + S1 = 0.02 + 0.82                      \n",
        "S2 = 0.84\n",
        "\n",
        "3.   k = 3, x = 0.75             \n",
        "a3 = a2 * R = x * ((x**(2))*((2*k-1)**(2)))/((2*k)*(2*k+1))           \n",
        "a3 = 0.006 = 0.01            \n",
        "S3 = a3 + S2 = 0.01 + 0.84                    \n",
        "S3 = 0.85 \n",
        "\n",
        "4.   k = 4, x = 0.75           \n",
        "a4 = a3 * R = x * ((x**(2))*((2*k-1)**(2)))/((2*k)*(2*k+1))       \n",
        "a4 = 0.003 = 0.00            \n",
        "S4 = a4 + S3 = 0.00 + 0.85                 \n",
        "S4 = 0.85 \n",
        "\n",
        "### the above calculations explains the print function in the above code:\n",
        "*print(\"a%d = %6.2f S%d = %6.2f\"%(k,a,k,S))*      \n",
        "*  a%d = %6.2f %(k,a):                 \n",
        "   indicates that \"a\" of k value, (for example, if k = 1, a = a1 and the a1 must be of 6 digit but after the decimal point there should be only two digits. As we see in the above calculations actual a2=0.017 but \"%6.2f\" changes the a2=0.02). \n",
        "*   S%d = %6.2f %(k,S):                    \n",
        "    indicates that \"S\" of k value, (for example, if k = 1, S = a1 and the S1 must be of 6 digit but after the decimal point there should be only two digits). \n",
        "\n",
        "    \n",
        "\n",
        "\n",
        "\n",
        "\n"
      ]
    },
    {
      "cell_type": "code",
      "metadata": {
        "id": "sZIm69QnTQ3a",
        "colab_type": "code",
        "colab": {}
      },
      "source": [
        "x = float(input(\"Enter argument (x): \"))                 \n",
        "y = asin(x)\n",
        "print(\"standard asin(%.2f) = %6.2f\"%(x,y))        \n",
        "yy = my_asin(x)\n",
        "print(\"my asin(%.2f) = %6.2f\"%(x,yy))"
      ],
      "execution_count": 0,
      "outputs": []
    },
    {
      "cell_type": "markdown",
      "metadata": {
        "id": "-2W88CzxTbX9",
        "colab_type": "text"
      },
      "source": [
        "\n",
        "\n",
        "*   The float()built-in function convert the input string to float type.\n",
        "*   *%.2f* ensures that if the input entered is \"0.746\" it convert the input to \"0.75\" because *%.2f* indicates that only two digits after the decimal point. So, it round up the input from 0.746 to 0.75.\n",
        "\n",
        "\n",
        "\n"
      ]
    },
    {
      "cell_type": "markdown",
      "metadata": {
        "id": "T1xiY4lLVsVT",
        "colab_type": "text"
      },
      "source": [
        "#RESULTS\n",
        "\n",
        "## Taylor series expansion of asin(x)                  \n",
        "\n",
        "*   n=1 x               \n",
        "*   n=3 x**3/6 + x \n",
        "*   n=5 3*x**5/40 + x**3/6 + x\n",
        "*   n=7 5*x**7/112 + 3*x**5/40 + x**3/6 + x\n",
        "*   n=9 35*x**9/1152 + 5*x**7/112 + 3*x**5/40 + x**3/6 + x \n",
        "\n",
        "\n",
        "\n",
        "![image.png](data:image/png;base64,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)            \n",
        "\n",
        "\n",
        "\n",
        "## Taylor series calculation of asin(x)                        \n",
        "\n",
        "  Enter argument (x): 0.75                           \n",
        "  Standard asin(0.75) =   0.85                                    \n",
        "\n",
        "| k  | k=0      | k=1      | k=2      | k=3      | k=4      |   \n",
        "| --:|:--------:|:--------:|:--------:|:--------:| --------:|     \n",
        "| a  | a0=0.75  | a1=0.07  | a2=0.02  | a3=0.01  | a4=0.00  |      \n",
        "| S  | S0=0.75  | S1=0.82  | S2=0.84  | S3=0.84  | S4=0.85  |     \n",
        "\n",
        "   ### The Final answer\n",
        "       my asin(0.75) =   0.85\n",
        " \n",
        "\n"
      ]
    }
  ]
}