{
  "nbformat": 4,
  "nbformat_minor": 0,
  "metadata": {
    "colab": {
      "name": "numerical_method_Taylor_series(1).ipynb",
      "provenance": [],
      "collapsed_sections": [],
      "authorship_tag": "ABX9TyPvf49MU/HfgSSKFUBTYIXK",
      "include_colab_link": true
    },
    "kernelspec": {
      "name": "python3",
      "display_name": "Python 3"
    }
  },
  "cells": [
    {
      "cell_type": "markdown",
      "metadata": {
        "id": "view-in-github",
        "colab_type": "text"
      },
      "source": [
        "<a href=\"https://colab.research.google.com/github/Shelcia29/RTR108/blob/master/numerical_method_Taylor_series(1).ipynb\" target=\"_parent\"><img src=\"https://colab.research.google.com/assets/colab-badge.svg\" alt=\"Open In Colab\"/></a>"
      ]
    },
    {
      "cell_type": "markdown",
      "metadata": {
        "id": "n1B3OFIxPSDM",
        "colab_type": "text"
      },
      "source": [
        "#TAYLOR SERIES EXPANSION for **asin(x)** function"
      ]
    },
    {
      "cell_type": "code",
      "metadata": {
        "id": "Ra9KpeZuKOXB",
        "colab_type": "code",
        "colab": {}
      },
      "source": [
        "## -*- coding: Taylor series expansion for asin-*-\n",
        "import sympy as sy                    \n",
        "import numpy as np                    \n",
        "from sympy.functions import asin,cos  \n",
        "import matplotlib.pyplot as plt "
      ],
      "execution_count": 0,
      "outputs": []
    },
    {
      "cell_type": "markdown",
      "metadata": {
        "id": "FYYTsuS7KfPX",
        "colab_type": "text"
      },
      "source": [
        "We have specified what style we want to use in plotting, Matplotlib comes with a few styles already.\n"
      ]
    },
    {
      "cell_type": "code",
      "metadata": {
        "id": "Qd99gTEgMBUT",
        "colab_type": "code",
        "colab": {}
      },
      "source": [
        "plt.style.use(\"ggplot\")"
      ],
      "execution_count": 0,
      "outputs": []
    },
    {
      "cell_type": "markdown",
      "metadata": {
        "id": "1e0FQPI1Ld9L",
        "colab_type": "text"
      },
      "source": [
        "## Title for the 1st part "
      ]
    },
    {
      "cell_type": "code",
      "metadata": {
        "id": "2JiZLYDLLCpm",
        "colab_type": "code",
        "outputId": "9bf20316-900b-4021-cca6-d4ce057f8c9e",
        "colab": {
          "base_uri": "https://localhost:8080/",
          "height": 33
        }
      },
      "source": [
        "print(\"Taylor series expansion of asin(x)\")  "
      ],
      "execution_count": 4,
      "outputs": [
        {
          "output_type": "stream",
          "text": [
            "Taylor series expansion of asin(x)\n"
          ],
          "name": "stdout"
        }
      ]
    },
    {
      "cell_type": "markdown",
      "metadata": {
        "id": "ISjAvq-XL86o",
        "colab_type": "text"
      },
      "source": [
        "## Define the variable and the function to approximate"
      ]
    },
    {
      "cell_type": "code",
      "metadata": {
        "id": "JHBXXc_yLofg",
        "colab_type": "code",
        "colab": {}
      },
      "source": [
        "x = sy.Symbol('x')\n",
        "f = asin(x)"
      ],
      "execution_count": 0,
      "outputs": []
    },
    {
      "cell_type": "markdown",
      "metadata": {
        "id": "oaKeHj88Mf-Q",
        "colab_type": "text"
      },
      "source": [
        "## Factorial function of given number"
      ]
    },
    {
      "cell_type": "code",
      "metadata": {
        "id": "L1Ejrh0wMlBz",
        "colab_type": "code",
        "colab": {}
      },
      "source": [
        "def factorial(n):\n",
        "     if n <= 0:\n",
        "          return 1                            \n",
        "     else:\n",
        "          return n*factorial(n-1)"
      ],
      "execution_count": 0,
      "outputs": []
    },
    {
      "cell_type": "markdown",
      "metadata": {
        "id": "z7ftWlnKMqkP",
        "colab_type": "text"
      },
      "source": [
        "## Taylor approximation at x0 of the function 'function'"
      ]
    },
    {
      "cell_type": "code",
      "metadata": {
        "id": "gLjqSqEvMulF",
        "colab_type": "code",
        "colab": {}
      },
      "source": [
        "def taylor(function,x0,n):\n",
        "    i = 0\n",
        "    p = 0\n",
        "    while i <= n:\n",
        "        p = p + (function.diff(x,i).subs(x,x0))/(factorial(i))*(x-x0)**i\n",
        "        i += 1\n",
        "    return p"
      ],
      "execution_count": 0,
      "outputs": []
    },
    {
      "cell_type": "markdown",
      "metadata": {
        "id": "JCV-fdPFM-ay",
        "colab_type": "text"
      },
      "source": [
        "## Plot results\n",
        "### The np.linspace() function returns evenly spaced numbers over the specified interval"
      ]
    },
    {
      "cell_type": "code",
      "metadata": {
        "id": "8jbLQqvONPp2",
        "colab_type": "code",
        "colab": {}
      },
      "source": [
        "def plot():\n",
        "    x_lims = [-5,5]\n",
        "    x1 = np.linspace(x_lims[0],x_lims[1],800)\n",
        "    y1 = []"
      ],
      "execution_count": 0,
      "outputs": []
    },
    {
      "cell_type": "markdown",
      "metadata": {
        "id": "phKihfbnNcgD",
        "colab_type": "text"
      },
      "source": [
        "## Approximate up until 10 starting from 1 and using steps of 2\n",
        "### Python built-in function range() generates the integer numbers between the given start integer(1) to the stop integer(10)"
      ]
    },
    {
      "cell_type": "code",
      "metadata": {
        "id": "FrVPXRsWNwaD",
        "colab_type": "code",
        "colab": {}
      },
      "source": [
        "for j in range(1,10,2):      \n",
        "        func = taylor(f,0,j)\n",
        "        print('n='+str(j),func)                    \n",
        "        for k in x1:\n",
        "            y1.append(func.subs(x,k))\n",
        "        plt.plot(x1,y1,label='order '+str(j))\n",
        "        y1 = []"
      ],
      "execution_count": 0,
      "outputs": []
    },
    {
      "cell_type": "markdown",
      "metadata": {
        "id": "862dnfJ1N6bA",
        "colab_type": "text"
      },
      "source": [
        "## Plot the function to approximate (asin)"
      ]
    },
    {
      "cell_type": "code",
      "metadata": {
        "id": "5hiHWmNjOAAe",
        "colab_type": "code",
        "colab": {}
      },
      "source": [
        "    plt.plot(x1,np.sin(x1),label='sin of x')\n",
        "    plt.xlim(x_lims)\n",
        "    plt.ylim([-5,5])\n",
        "    plt.xlabel('x')\n",
        "    plt.ylabel('y')\n",
        "    plt.legend()\n",
        "    plt.grid(True)                              \n",
        "    plt.title('Taylor series of asin') \n",
        "    plt.show()\n",
        "plot()"
      ],
      "execution_count": 0,
      "outputs": []
    },
    {
      "cell_type": "markdown",
      "metadata": {
        "id": "-_N5_20rP0BC",
        "colab_type": "text"
      },
      "source": [
        "#CALCULATION of **asin(x)** value"
      ]
    },
    {
      "cell_type": "code",
      "metadata": {
        "id": "FRw_RxINQDWZ",
        "colab_type": "code",
        "colab": {}
      },
      "source": [
        "from math import asin                                     \n",
        "print(\"Taylor series calculation of asin(x)\")                 \n",
        "def my_asin(x):                                               \n",
        "   k = 0\n",
        "   a = x\n",
        "   S = a\n",
        "   print(\"a0 = %6.2f S0 = %6.2f\"%(a,S))"
      ],
      "execution_count": 0,
      "outputs": []
    },
    {
      "cell_type": "markdown",
      "metadata": {
        "id": "ZoUXNb_EQlt2",
        "colab_type": "text"
      },
      "source": [
        "### The format specifier in the above print slot says how to format the value: %6.2f means: \n",
        "1. \"6\" indicates 6 spaces allocated to this value.\n",
        "2. \"f\" indicates treat is as a floating-point number.\n",
        "3. \"2\" indicates places to the right of the decimal point (i.e.,)only two digits after the decimal point"
      ]
    },
    {
      "cell_type": "markdown",
      "metadata": {
        "id": "k8xPEBJzSgXp",
        "colab_type": "text"
      },
      "source": [
        "### *while* loop repeats the sequence of actions many times until some condition evaluates to False, here *(k<4)*"
      ]
    },
    {
      "cell_type": "markdown",
      "metadata": {
        "id": "0tDP8icYS6xq",
        "colab_type": "text"
      },
      "source": [
        "### From previous commond where (k=0) the value of a and S are saved as:\n",
        "\n",
        "\n",
        "*   a0 = x (input = 0.75) = 0.75\n",
        "*   S0 = a0 = 0.75\n",
        "\n",
        "\n",
        "\n"
      ]
    },
    {
      "cell_type": "code",
      "metadata": {
        "id": "eTdpXH7LR22I",
        "colab_type": "code",
        "colab": {}
      },
      "source": [
        " while k < 4:                                          \n",
        "     k = k + 1\n",
        "     R = ((x**(2))*((2*k-1)**(2)))/((2*k)*(2*k+1))\n",
        "     a = a * R\n",
        "     S = S + a\n",
        "     print(\"a%d = %6.2f S%d = %6.2f\"%(k,a,k,S))\n",
        "   print(\"The Final answer\")\n",
        "   return S"
      ],
      "execution_count": 0,
      "outputs": []
    },
    {
      "cell_type": "markdown",
      "metadata": {
        "id": "eNK34AEteIfp",
        "colab_type": "text"
      },
      "source": [
        "### From the above commands where (k<4), we obtain the values of a and S as follows:   \n",
        "\n",
        "1.   k = 1, x = 0.75                  \n",
        "  a1 = a0 * R = x * ((x**(2))*((2*k-1)**(2)))/((2*k)*(2*k+1))                        \n",
        "  a1 = 0.07                    \n",
        "  S1 = a1 + S0 = 0.07 + 0.75                         \n",
        "  S1 = 0.82\n",
        "\n",
        "2.   k = 2, x = 0.75                \n",
        "a2 = a1 * R = x * ((x**(2))*((2*k-1)**(2)))/((2*k)*(2*k+1))                   a2 = 0.017 = 0.02              \n",
        "S2 = a2 + S1 = 0.02 + 0.82                      \n",
        "S2 = 0.84\n",
        "\n",
        "3.   k = 3, x = 0.75             \n",
        "a3 = a2 * R = x * ((x**(2))*((2*k-1)**(2)))/((2*k)*(2*k+1))           \n",
        "a3 = 0.006 = 0.01            \n",
        "S3 = a3 + S2 = 0.01 + 0.84                    \n",
        "S3 = 0.85 \n",
        "\n",
        "4.   k = 4, x = 0.75           \n",
        "a4 = a3 * R = x * ((x**(2))*((2*k-1)**(2)))/((2*k)*(2*k+1))       \n",
        "a4 = 0.003 = 0.00            \n",
        "S4 = a4 + S3 = 0.00 + 0.85                 \n",
        "S4 = 0.85 \n",
        "\n",
        "### the above calculations explains the print function in the above code:\n",
        "*print(\"a%d = %6.2f S%d = %6.2f\"%(k,a,k,S))*      \n",
        "*  a%d = %6.2f %(k,a):                 \n",
        "   indicates that \"a\" of k value, (for example, if k = 1, a = a1 and the a1 must be of 6 digit but after the decimal point there should be only two digits. As we see in the above calculations actual a2=0.017 but \"%6.2f\" changes the a2=0.02). \n",
        "*   S%d = %6.2f %(k,S):                    \n",
        "    indicates that \"S\" of k value, (for example, if k = 1, S = a1 and the S1 must be of 6 digit but after the decimal point there should be only two digits). \n",
        "\n",
        "    \n",
        "\n",
        "\n",
        "\n",
        "\n"
      ]
    },
    {
      "cell_type": "code",
      "metadata": {
        "id": "sZIm69QnTQ3a",
        "colab_type": "code",
        "colab": {}
      },
      "source": [
        "x = float(input(\"Enter argument (x): \"))                 \n",
        "y = asin(x)\n",
        "print(\"standard asin(%.2f) = %6.2f\"%(x,y))        \n",
        "yy = my_asin(x)\n",
        "print(\"my asin(%.2f) = %6.2f\"%(x,yy))"
      ],
      "execution_count": 0,
      "outputs": []
    },
    {
      "cell_type": "markdown",
      "metadata": {
        "id": "-2W88CzxTbX9",
        "colab_type": "text"
      },
      "source": [
        "\n",
        "\n",
        "*   The float()built-in function convert the input string to float type.\n",
        "*   *%.2f* ensures that if the input entered is \"0.746\" it convert the input to \"0.75\" because *%.2f* indicates that only two digits after the decimal point. So, it round up the input from 0.746 to 0.75.\n",
        "\n",
        "\n",
        "\n"
      ]
    },
    {
      "cell_type": "markdown",
      "metadata": {
        "id": "T1xiY4lLVsVT",
        "colab_type": "text"
      },
      "source": [
        "#RESULTS\n",
        "\n",
        "## Taylor series expansion of asin(x)                  \n",
        "\n",
        "*   n=1 x               \n",
        "*   n=3 x**3/6 + x \n",
        "*   n=5 3*x**5/40 + x**3/6 + x\n",
        "*   n=7 5*x**7/112 + 3*x**5/40 + x**3/6 + x\n",
        "*   n=9 35*x**9/1152 + 5*x**7/112 + 3*x**5/40 + x**3/6 + x \n",
        "\n",
        "\n",
        "![image.png](data:image/png;base64,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)                                 \n",
        "As the degree of the Taylor polynomial rises, it approaches the correct function. This image shows asin(x) and its Taylor approximations, polynomials of degree 1, 3, 5, 7 and 9.\n",
        "\n",
        "            \n",
        "\n",
        "\n",
        "\n",
        "## Taylor series calculation of asin(x)                        \n",
        "\n",
        "  Enter argument (x): 0.75                           \n",
        "  Standard asin(0.75) =   0.85                                    \n",
        "\n",
        "| k  | k=0      | k=1      | k=2      | k=3      | k=4      |   \n",
        "| --:|:--------:|:--------:|:--------:|:--------:| --------:|     \n",
        "| a  | a0=0.75  | a1=0.07  | a2=0.02  | a3=0.01  | a4=0.00  |      \n",
        "| S  | S0=0.75  | S1=0.82  | S2=0.84  | S3=0.84  | S4=0.85  |     \n",
        "\n",
        "   ### The Final answer\n",
        "       my asin(0.75) =   0.85\n",
        " \n",
        "\n"
      ]
    }
  ]
}