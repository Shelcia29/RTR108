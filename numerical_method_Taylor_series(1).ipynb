{
  "nbformat": 4,
  "nbformat_minor": 0,
  "metadata": {
    "colab": {
      "name": "numerical_method_Taylor_series(1).ipynb",
      "provenance": [],
      "collapsed_sections": [],
      "authorship_tag": "ABX9TyNx3i+UhKo9aELQO+3TDdZh",
      "include_colab_link": true
    },
    "kernelspec": {
      "name": "python3",
      "display_name": "Python 3"
    }
  },
  "cells": [
    {
      "cell_type": "markdown",
      "metadata": {
        "id": "view-in-github",
        "colab_type": "text"
      },
      "source": [
        "<a href=\"https://colab.research.google.com/github/Shelcia29/RTR108/blob/master/numerical_method_Taylor_series(1).ipynb\" target=\"_parent\"><img src=\"https://colab.research.google.com/assets/colab-badge.svg\" alt=\"Open In Colab\"/></a>"
      ]
    },
    {
      "cell_type": "markdown",
      "metadata": {
        "id": "n1B3OFIxPSDM",
        "colab_type": "text"
      },
      "source": [
        "#TAYLOR SERIES EXPANSION for **asin(x)** function"
      ]
    },
    {
      "cell_type": "code",
      "metadata": {
        "id": "Ra9KpeZuKOXB",
        "colab_type": "code",
        "colab": {}
      },
      "source": [
        "## -*- coding: Taylor series expansion for asin-*-\n",
        "import sympy as sy                    \n",
        "import numpy as np                    \n",
        "from sympy.functions import asin,cos  \n",
        "import matplotlib.pyplot as plt "
      ],
      "execution_count": 0,
      "outputs": []
    },
    {
      "cell_type": "markdown",
      "metadata": {
        "id": "FYYTsuS7KfPX",
        "colab_type": "text"
      },
      "source": [
        "We have specified what style we want to use in plotting, Matplotlib comes with a few styles already.\n"
      ]
    },
    {
      "cell_type": "code",
      "metadata": {
        "id": "Qd99gTEgMBUT",
        "colab_type": "code",
        "colab": {}
      },
      "source": [
        "plt.style.use(\"ggplot\")"
      ],
      "execution_count": 0,
      "outputs": []
    },
    {
      "cell_type": "markdown",
      "metadata": {
        "id": "1e0FQPI1Ld9L",
        "colab_type": "text"
      },
      "source": [
        "## Title for the 1st part "
      ]
    },
    {
      "cell_type": "code",
      "metadata": {
        "id": "2JiZLYDLLCpm",
        "colab_type": "code",
        "outputId": "9bf20316-900b-4021-cca6-d4ce057f8c9e",
        "colab": {
          "base_uri": "https://localhost:8080/",
          "height": 33
        }
      },
      "source": [
        "print(\"Taylor series expansion of asin(x)\")  "
      ],
      "execution_count": 0,
      "outputs": [
        {
          "output_type": "stream",
          "text": [
            "Taylor series expansion of asin(x)\n"
          ],
          "name": "stdout"
        }
      ]
    },
    {
      "cell_type": "markdown",
      "metadata": {
        "id": "ISjAvq-XL86o",
        "colab_type": "text"
      },
      "source": [
        "## Define the variable and the function to approximate"
      ]
    },
    {
      "cell_type": "code",
      "metadata": {
        "id": "JHBXXc_yLofg",
        "colab_type": "code",
        "colab": {}
      },
      "source": [
        "x = sy.Symbol('x')\n",
        "f = asin(x)"
      ],
      "execution_count": 0,
      "outputs": []
    },
    {
      "cell_type": "markdown",
      "metadata": {
        "id": "oaKeHj88Mf-Q",
        "colab_type": "text"
      },
      "source": [
        "## Factorial function of given number"
      ]
    },
    {
      "cell_type": "code",
      "metadata": {
        "id": "L1Ejrh0wMlBz",
        "colab_type": "code",
        "colab": {}
      },
      "source": [
        "def factorial(n):\n",
        "     if n <= 0:\n",
        "          return 1                            \n",
        "     else:\n",
        "          return n*factorial(n-1)"
      ],
      "execution_count": 0,
      "outputs": []
    },
    {
      "cell_type": "markdown",
      "metadata": {
        "id": "z7ftWlnKMqkP",
        "colab_type": "text"
      },
      "source": [
        "## Taylor approximation at x0 of the function 'function'"
      ]
    },
    {
      "cell_type": "code",
      "metadata": {
        "id": "gLjqSqEvMulF",
        "colab_type": "code",
        "colab": {}
      },
      "source": [
        "def taylor(function,x0,n):\n",
        "    i = 0\n",
        "    p = 0\n",
        "    while i <= n:\n",
        "        p = p + (function.diff(x,i).subs(x,x0))/(factorial(i))*(x-x0)**i\n",
        "        i += 1\n",
        "    return p"
      ],
      "execution_count": 0,
      "outputs": []
    },
    {
      "cell_type": "markdown",
      "metadata": {
        "id": "JCV-fdPFM-ay",
        "colab_type": "text"
      },
      "source": [
        "## Plot results\n",
        "### The np.linspace() function returns evenly spaced numbers over the specified interval"
      ]
    },
    {
      "cell_type": "code",
      "metadata": {
        "id": "8jbLQqvONPp2",
        "colab_type": "code",
        "colab": {}
      },
      "source": [
        "def plot():\n",
        "    x_lims = [-5,5]\n",
        "    x1 = np.linspace(x_lims[0],x_lims[1],800)\n",
        "    y1 = []"
      ],
      "execution_count": 0,
      "outputs": []
    },
    {
      "cell_type": "markdown",
      "metadata": {
        "id": "phKihfbnNcgD",
        "colab_type": "text"
      },
      "source": [
        "## Approximate up until 10 starting from 1 and using steps of 2\n",
        "### Python built-in function range() generates the integer numbers between the given start integer(1) to the stop integer(10)"
      ]
    },
    {
      "cell_type": "code",
      "metadata": {
        "id": "FrVPXRsWNwaD",
        "colab_type": "code",
        "colab": {}
      },
      "source": [
        "for j in range(1,10,2):      \n",
        "        func = taylor(f,0,j)\n",
        "        print('n='+str(j),func)                    \n",
        "        for k in x1:\n",
        "            y1.append(func.subs(x,k))\n",
        "        plt.plot(x1,y1,label='order '+str(j))\n",
        "        y1 = []"
      ],
      "execution_count": 0,
      "outputs": []
    },
    {
      "cell_type": "markdown",
      "metadata": {
        "id": "862dnfJ1N6bA",
        "colab_type": "text"
      },
      "source": [
        "## Plot the function to approximate (asin)"
      ]
    },
    {
      "cell_type": "code",
      "metadata": {
        "id": "5hiHWmNjOAAe",
        "colab_type": "code",
        "colab": {}
      },
      "source": [
        "    plt.plot(x1,np.arcsin(x1),label='asin of x')\n",
        "    plt.xlim(x_lims)\n",
        "    plt.ylim([-5,5])\n",
        "    plt.xlabel('x')\n",
        "    plt.ylabel('y')\n",
        "    plt.legend()\n",
        "    plt.grid(True)                              \n",
        "    plt.title('Taylor series of asin') \n",
        "    plt.show()\n",
        "plot()"
      ],
      "execution_count": 0,
      "outputs": []
    },
    {
      "cell_type": "markdown",
      "metadata": {
        "id": "-_N5_20rP0BC",
        "colab_type": "text"
      },
      "source": [
        "#CALCULATION of **asin(x)** value"
      ]
    },
    {
      "cell_type": "code",
      "metadata": {
        "id": "FRw_RxINQDWZ",
        "colab_type": "code",
        "colab": {}
      },
      "source": [
        "from math import asin                                     \n",
        "print(\"Taylor series calculation of asin(x)\")                 \n",
        "def my_asin(x):                                               \n",
        "   k = 0\n",
        "   a = x\n",
        "   S = a\n",
        "   print(\"a0 = %6.2f S0 = %6.2f\"%(a,S))"
      ],
      "execution_count": 0,
      "outputs": []
    },
    {
      "cell_type": "markdown",
      "metadata": {
        "id": "ZoUXNb_EQlt2",
        "colab_type": "text"
      },
      "source": [
        "### The format specifier in the above print slot says how to format the value: %6.2f means: \n",
        "1. \"6\" indicates 6 spaces allocated to this value.\n",
        "2. \"f\" indicates treat is as a floating-point number.\n",
        "3. \"2\" indicates places to the right of the decimal point (i.e.,)only two digits after the decimal point"
      ]
    },
    {
      "cell_type": "markdown",
      "metadata": {
        "id": "k8xPEBJzSgXp",
        "colab_type": "text"
      },
      "source": [
        "### *while* loop repeats the sequence of actions many times until some condition evaluates to False, here *(k<4)*"
      ]
    },
    {
      "cell_type": "markdown",
      "metadata": {
        "id": "0tDP8icYS6xq",
        "colab_type": "text"
      },
      "source": [
        "### From previous commond where (k=0) the value of a and S are saved as:\n",
        "\n",
        "\n",
        "*   a0 = x (input = 0.75) = 0.75\n",
        "*   S0 = a0 = 0.75\n",
        "\n",
        "\n",
        "\n"
      ]
    },
    {
      "cell_type": "code",
      "metadata": {
        "id": "eTdpXH7LR22I",
        "colab_type": "code",
        "colab": {}
      },
      "source": [
        " while k < 4:                                          \n",
        "     k = k + 1\n",
        "     R = ((x**(2))*((2*k-1)**(2)))/((2*k)*(2*k+1))\n",
        "     a = a * R\n",
        "     S = S + a\n",
        "     print(\"a%d = %6.2f S%d = %6.2f\"%(k,a,k,S))\n",
        "   print(\"The Final answer\")\n",
        "   return S"
      ],
      "execution_count": 0,
      "outputs": []
    },
    {
      "cell_type": "markdown",
      "metadata": {
        "id": "eNK34AEteIfp",
        "colab_type": "text"
      },
      "source": [
        "### From the above commands where (k<4), we obtain the values of a and S as follows:   \n",
        "\n",
        "1.   k = 1, x = 0.75                  \n",
        "  a1 = a0 * R = x * ((x**(2))*((2*k-1)**(2)))/((2*k)*(2*k+1))                        \n",
        "  a1 = 0.07                    \n",
        "  S1 = a1 + S0 = 0.07 + 0.75                         \n",
        "  S1 = 0.82\n",
        "\n",
        "2.   k = 2, x = 0.75                \n",
        "a2 = a1 * R = x * ((x**(2))*((2*k-1)**(2)))/((2*k)*(2*k+1))                   a2 = 0.017 = 0.02              \n",
        "S2 = a2 + S1 = 0.02 + 0.82                      \n",
        "S2 = 0.84\n",
        "\n",
        "3.   k = 3, x = 0.75             \n",
        "a3 = a2 * R = x * ((x**(2))*((2*k-1)**(2)))/((2*k)*(2*k+1))           \n",
        "a3 = 0.006 = 0.01            \n",
        "S3 = a3 + S2 = 0.01 + 0.84                    \n",
        "S3 = 0.85 \n",
        "\n",
        "4.   k = 4, x = 0.75           \n",
        "a4 = a3 * R = x * ((x**(2))*((2*k-1)**(2)))/((2*k)*(2*k+1))       \n",
        "a4 = 0.003 = 0.00            \n",
        "S4 = a4 + S3 = 0.00 + 0.85                 \n",
        "S4 = 0.85 \n",
        "\n",
        "### the above calculations explains the print function in the above code:\n",
        "*print(\"a%d = %6.2f S%d = %6.2f\"%(k,a,k,S))*      \n",
        "*  a%d = %6.2f %(k,a):                 \n",
        "   indicates that \"a\" of k value, (for example, if k = 1, a = a1 and the a1 must be of 6 digit but after the decimal point there should be only two digits. As we see in the above calculations actual a2=0.017 but \"%6.2f\" changes the a2=0.02). \n",
        "*   S%d = %6.2f %(k,S):                    \n",
        "    indicates that \"S\" of k value, (for example, if k = 1, S = a1 and the S1 must be of 6 digit but after the decimal point there should be only two digits). \n",
        "\n",
        "    \n",
        "\n",
        "\n",
        "\n",
        "\n"
      ]
    },
    {
      "cell_type": "code",
      "metadata": {
        "id": "sZIm69QnTQ3a",
        "colab_type": "code",
        "colab": {}
      },
      "source": [
        "x = float(input(\"Enter argument (x): \"))                 \n",
        "y = asin(x)\n",
        "print(\"standard asin(%.2f) = %6.2f\"%(x,y))        \n",
        "yy = my_asin(x)\n",
        "print(\"my asin(%.2f) = %6.2f\"%(x,yy))"
      ],
      "execution_count": 0,
      "outputs": []
    },
    {
      "cell_type": "markdown",
      "metadata": {
        "id": "-2W88CzxTbX9",
        "colab_type": "text"
      },
      "source": [
        "\n",
        "\n",
        "*   The float()built-in function convert the input string to float type.\n",
        "*   *%.2f* ensures that if the input entered is \"0.746\" it convert the input to \"0.75\" because *%.2f* indicates that only two digits after the decimal point. So, it round up the input from 0.746 to 0.75.\n",
        "\n",
        "\n",
        "\n"
      ]
    },
    {
      "cell_type": "markdown",
      "metadata": {
        "id": "T1xiY4lLVsVT",
        "colab_type": "text"
      },
      "source": [
        "#RESULTS\n",
        "\n",
        "## Taylor series expansion of asin(x)                  \n",
        "\n",
        "*   n=1 x               \n",
        "*   n=3 x**3/6 + x \n",
        "*   n=5 3*x**5/40 + x**3/6 + x\n",
        "*   n=7 5*x**7/112 + 3*x**5/40 + x**3/6 + x\n",
        "*   n=9 35*x**9/1152 + 5*x**7/112 + 3*x**5/40 + x**3/6 + x \n",
        "\n",
        "\n",
        "![image.png](data:image/png;base64,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)                                 \n",
        "As the degree of the Taylor polynomial rises, it approaches the correct function. This image shows asin(x) and its Taylor approximations, polynomials of degree 1, 3, 5, 7 and 9.\n",
        "\n",
        "            \n",
        "\n",
        "\n",
        "\n",
        "## Taylor series calculation of asin(x)                        \n",
        "\n",
        "  Enter argument (x): 0.75                           \n",
        "  Standard asin(0.75) =   0.85                                    \n",
        "\n",
        "| k  | k=0      | k=1      | k=2      | k=3      | k=4      |   \n",
        "| --:|:--------:|:--------:|:--------:|:--------:| --------:|     \n",
        "| a  | a0=0.75  | a1=0.07  | a2=0.02  | a3=0.01  | a4=0.00  |      \n",
        "| S  | S0=0.75  | S1=0.82  | S2=0.84  | S3=0.84  | S4=0.85  |     \n",
        "\n",
        "   ### The Final answer\n",
        "       my asin(0.75) =   0.85\n",
        " \n",
        "\n"
      ]
    }
  ]
}