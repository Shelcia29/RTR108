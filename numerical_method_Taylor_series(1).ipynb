{
  "nbformat": 4,
  "nbformat_minor": 0,
  "metadata": {
    "colab": {
      "name": "numerical_method_Taylor_series(1).ipynb",
      "provenance": [],
      "collapsed_sections": [],
      "authorship_tag": "ABX9TyPrDeocqIlvaGh1kR4KgxB8",
      "include_colab_link": true
    },
    "kernelspec": {
      "name": "python3",
      "display_name": "Python 3"
    }
  },
  "cells": [
    {
      "cell_type": "markdown",
      "metadata": {
        "id": "view-in-github",
        "colab_type": "text"
      },
      "source": [
        "<a href=\"https://colab.research.google.com/github/Shelcia29/RTR108/blob/master/numerical_method_Taylor_series(1).ipynb\" target=\"_parent\"><img src=\"https://colab.research.google.com/assets/colab-badge.svg\" alt=\"Open In Colab\"/></a>"
      ]
    },
    {
      "cell_type": "markdown",
      "metadata": {
        "id": "n1B3OFIxPSDM",
        "colab_type": "text"
      },
      "source": [
        "#TAYLOR SERIES EXPANSION for **asin(x)** function"
      ]
    },
    {
      "cell_type": "code",
      "metadata": {
        "id": "Ra9KpeZuKOXB",
        "colab_type": "code",
        "colab": {}
      },
      "source": [
        "## -*- coding: Taylor series expansion for asin-*-\n",
        "import sympy as sy                    \n",
        "import numpy as np                    \n",
        "from sympy.functions import asin,cos  \n",
        "import matplotlib.pyplot as plt "
      ],
      "execution_count": 0,
      "outputs": []
    },
    {
      "cell_type": "markdown",
      "metadata": {
        "id": "FYYTsuS7KfPX",
        "colab_type": "text"
      },
      "source": [
        "We have specified what style we want to use in plotting, Matplotlib comes with a few styles already.\n"
      ]
    },
    {
      "cell_type": "code",
      "metadata": {
        "id": "Qd99gTEgMBUT",
        "colab_type": "code",
        "colab": {}
      },
      "source": [
        "plt.style.use(\"ggplot\")"
      ],
      "execution_count": 0,
      "outputs": []
    },
    {
      "cell_type": "markdown",
      "metadata": {
        "id": "1e0FQPI1Ld9L",
        "colab_type": "text"
      },
      "source": [
        "## Title for the 1st part "
      ]
    },
    {
      "cell_type": "code",
      "metadata": {
        "id": "2JiZLYDLLCpm",
        "colab_type": "code",
        "outputId": "9bf20316-900b-4021-cca6-d4ce057f8c9e",
        "colab": {
          "base_uri": "https://localhost:8080/",
          "height": 33
        }
      },
      "source": [
        "print(\"Taylor series expansion of asin(x)\")  "
      ],
      "execution_count": 0,
      "outputs": [
        {
          "output_type": "stream",
          "text": [
            "Taylor series expansion of asin(x)\n"
          ],
          "name": "stdout"
        }
      ]
    },
    {
      "cell_type": "markdown",
      "metadata": {
        "id": "ISjAvq-XL86o",
        "colab_type": "text"
      },
      "source": [
        "## Define the variable and the function to approximate"
      ]
    },
    {
      "cell_type": "code",
      "metadata": {
        "id": "JHBXXc_yLofg",
        "colab_type": "code",
        "colab": {}
      },
      "source": [
        "x = sy.Symbol('x')\n",
        "f = asin(x)"
      ],
      "execution_count": 0,
      "outputs": []
    },
    {
      "cell_type": "markdown",
      "metadata": {
        "id": "oaKeHj88Mf-Q",
        "colab_type": "text"
      },
      "source": [
        "## Factorial function of given number"
      ]
    },
    {
      "cell_type": "code",
      "metadata": {
        "id": "L1Ejrh0wMlBz",
        "colab_type": "code",
        "colab": {}
      },
      "source": [
        "def factorial(n):\n",
        "     if n <= 0:\n",
        "          return 1                            \n",
        "     else:\n",
        "          return n*factorial(n-1)"
      ],
      "execution_count": 0,
      "outputs": []
    },
    {
      "cell_type": "markdown",
      "metadata": {
        "id": "z7ftWlnKMqkP",
        "colab_type": "text"
      },
      "source": [
        "## Taylor approximation at x0 of the function 'function'"
      ]
    },
    {
      "cell_type": "code",
      "metadata": {
        "id": "gLjqSqEvMulF",
        "colab_type": "code",
        "colab": {}
      },
      "source": [
        "def taylor(function,x0,n):\n",
        "    i = 0\n",
        "    p = 0\n",
        "    while i <= n:\n",
        "        p = p + (function.diff(x,i).subs(x,x0))/(factorial(i))*(x-x0)**i\n",
        "        i += 1\n",
        "    return p"
      ],
      "execution_count": 0,
      "outputs": []
    },
    {
      "cell_type": "markdown",
      "metadata": {
        "id": "JCV-fdPFM-ay",
        "colab_type": "text"
      },
      "source": [
        "## Plot results\n",
        "### The np.linspace() function returns evenly spaced numbers over the specified interval"
      ]
    },
    {
      "cell_type": "code",
      "metadata": {
        "id": "8jbLQqvONPp2",
        "colab_type": "code",
        "colab": {}
      },
      "source": [
        "def plot():\n",
        "    x_lims = [-np.pi/2,np.pi/2]\n",
        "    x1 = np.linspace(-1,1,800)\n",
        "    y1 = []"
      ],
      "execution_count": 0,
      "outputs": []
    },
    {
      "cell_type": "markdown",
      "metadata": {
        "id": "phKihfbnNcgD",
        "colab_type": "text"
      },
      "source": [
        "## Approximate up until 10 starting from 1 and using steps of 2\n",
        "### Python built-in function range() generates the integer numbers between the given start integer(1) to the stop integer(10)"
      ]
    },
    {
      "cell_type": "code",
      "metadata": {
        "id": "FrVPXRsWNwaD",
        "colab_type": "code",
        "colab": {}
      },
      "source": [
        "for j in range(1,10,2):      \n",
        "        func = taylor(f,0,j)\n",
        "        print('n='+str(j),func)                    \n",
        "        for k in x1:\n",
        "            y1.append(func.subs(x,k))\n",
        "        plt.plot(x1,y1,label='order '+str(j))\n",
        "        y1 = []"
      ],
      "execution_count": 0,
      "outputs": []
    },
    {
      "cell_type": "markdown",
      "metadata": {
        "id": "862dnfJ1N6bA",
        "colab_type": "text"
      },
      "source": [
        "## Plot the function to approximate (asin)"
      ]
    },
    {
      "cell_type": "code",
      "metadata": {
        "id": "5hiHWmNjOAAe",
        "colab_type": "code",
        "colab": {}
      },
      "source": [
        "    plt.plot(x1,np.arcsin(x1),label='asin of x')\n",
        "    plt.xlim(x_lims)\n",
        "    plt.ylim([-np.pi/2,np.pi/2])\n",
        "    plt.xlabel('x')\n",
        "    plt.ylabel('y')\n",
        "    plt.legend()\n",
        "    plt.grid(True)                              \n",
        "    plt.title('Taylor series of asin') \n",
        "    plt.show()\n",
        "plot()"
      ],
      "execution_count": 0,
      "outputs": []
    },
    {
      "cell_type": "markdown",
      "metadata": {
        "id": "-_N5_20rP0BC",
        "colab_type": "text"
      },
      "source": [
        "#CALCULATION of **asin(x)** value"
      ]
    },
    {
      "cell_type": "code",
      "metadata": {
        "id": "FRw_RxINQDWZ",
        "colab_type": "code",
        "colab": {}
      },
      "source": [
        "from math import asin                                     \n",
        "print(\"Taylor series calculation of asin(x)\")                 \n",
        "def my_asin(x):                                               \n",
        "   k = 0\n",
        "   a = x\n",
        "   S = a\n",
        "   print(\"a0 = %6.2f S0 = %6.2f\"%(a,S))"
      ],
      "execution_count": 0,
      "outputs": []
    },
    {
      "cell_type": "markdown",
      "metadata": {
        "id": "ZoUXNb_EQlt2",
        "colab_type": "text"
      },
      "source": [
        "### The format specifier in the above print slot says how to format the value: %6.2f means: \n",
        "1. \"6\" indicates 6 spaces allocated to this value.\n",
        "2. \"f\" indicates treat is as a floating-point number.\n",
        "3. \"2\" indicates places to the right of the decimal point (i.e.,)only two digits after the decimal point"
      ]
    },
    {
      "cell_type": "markdown",
      "metadata": {
        "id": "k8xPEBJzSgXp",
        "colab_type": "text"
      },
      "source": [
        "### *while* loop repeats the sequence of actions many times until some condition evaluates to False, here *(k<4)*"
      ]
    },
    {
      "cell_type": "markdown",
      "metadata": {
        "id": "0tDP8icYS6xq",
        "colab_type": "text"
      },
      "source": [
        "### From previous commond where (k=0) the value of a and S are saved as:\n",
        "\n",
        "\n",
        "*   a0 = x (input = 0.75) = 0.75\n",
        "*   S0 = a0 = 0.75\n",
        "\n",
        "\n",
        "\n"
      ]
    },
    {
      "cell_type": "code",
      "metadata": {
        "id": "eTdpXH7LR22I",
        "colab_type": "code",
        "colab": {}
      },
      "source": [
        " while k < 4:                                          \n",
        "     k = k + 1\n",
        "     R = ((x**(2))*((2*k-1)**(2)))/((2*k)*(2*k+1))\n",
        "     a = a * R\n",
        "     S = S + a\n",
        "     print(\"a%d = %6.2f S%d = %6.2f\"%(k,a,k,S))\n",
        "   print(\"The Final answer\")\n",
        "   return S"
      ],
      "execution_count": 0,
      "outputs": []
    },
    {
      "cell_type": "markdown",
      "metadata": {
        "id": "eNK34AEteIfp",
        "colab_type": "text"
      },
      "source": [
        "### From the above commands where (k<4), we obtain the values of a and S as follows:   \n",
        "\n",
        "1.   k = 1, x = 0.75                  \n",
        "  a1 = a0 * R = x * ((x**(2))*((2*k-1)**(2)))/((2*k)*(2*k+1))                        \n",
        "  a1 = 0.07                    \n",
        "  S1 = a1 + S0 = 0.07 + 0.75                         \n",
        "  S1 = 0.82\n",
        "\n",
        "2.   k = 2, x = 0.75                \n",
        "a2 = a1 * R = x * ((x**(2))*((2*k-1)**(2)))/((2*k)*(2*k+1))                   a2 = 0.017 = 0.02              \n",
        "S2 = a2 + S1 = 0.02 + 0.82                      \n",
        "S2 = 0.84\n",
        "\n",
        "3.   k = 3, x = 0.75             \n",
        "a3 = a2 * R = x * ((x**(2))*((2*k-1)**(2)))/((2*k)*(2*k+1))           \n",
        "a3 = 0.006 = 0.01            \n",
        "S3 = a3 + S2 = 0.01 + 0.84                    \n",
        "S3 = 0.85 \n",
        "\n",
        "4.   k = 4, x = 0.75           \n",
        "a4 = a3 * R = x * ((x**(2))*((2*k-1)**(2)))/((2*k)*(2*k+1))       \n",
        "a4 = 0.003 = 0.00            \n",
        "S4 = a4 + S3 = 0.00 + 0.85                 \n",
        "S4 = 0.85 \n",
        "\n",
        "### the above calculations explains the print function in the above code:\n",
        "*print(\"a%d = %6.2f S%d = %6.2f\"%(k,a,k,S))*      \n",
        "*  a%d = %6.2f %(k,a):                 \n",
        "   indicates that \"a\" of k value, (for example, if k = 1, a = a1 and the a1 must be of 6 digit but after the decimal point there should be only two digits. As we see in the above calculations actual a2=0.017 but \"%6.2f\" changes the a2=0.02). \n",
        "*   S%d = %6.2f %(k,S):                    \n",
        "    indicates that \"S\" of k value, (for example, if k = 1, S = a1 and the S1 must be of 6 digit but after the decimal point there should be only two digits). \n",
        "\n",
        "    \n",
        "\n",
        "\n",
        "\n",
        "\n"
      ]
    },
    {
      "cell_type": "code",
      "metadata": {
        "id": "sZIm69QnTQ3a",
        "colab_type": "code",
        "colab": {}
      },
      "source": [
        "x = float(input(\"Enter argument (x): \"))                 \n",
        "y = asin(x)\n",
        "print(\"standard asin(%.2f) = %6.2f\"%(x,y))        \n",
        "yy = my_asin(x)\n",
        "print(\"my asin(%.2f) = %6.2f\"%(x,yy))"
      ],
      "execution_count": 0,
      "outputs": []
    },
    {
      "cell_type": "markdown",
      "metadata": {
        "id": "-2W88CzxTbX9",
        "colab_type": "text"
      },
      "source": [
        "\n",
        "\n",
        "*   The float()built-in function convert the input string to float type.\n",
        "*   *%.2f* ensures that if the input entered is \"0.746\" it convert the input to \"0.75\" because *%.2f* indicates that only two digits after the decimal point. So, it round up the input from 0.746 to 0.75.\n",
        "\n",
        "\n",
        "\n"
      ]
    },
    {
      "cell_type": "markdown",
      "metadata": {
        "id": "T1xiY4lLVsVT",
        "colab_type": "text"
      },
      "source": [
        "#RESULTS\n",
        "\n",
        "## Taylor series expansion of asin(x)                  \n",
        "\n",
        "*   n=1 x               \n",
        "*   n=3 x**3/6 + x \n",
        "*   n=5 3*x**5/40 + x**3/6 + x\n",
        "*   n=7 5*x**7/112 + 3*x**5/40 + x**3/6 + x\n",
        "*   n=9 35*x**9/1152 + 5*x**7/112 + 3*x**5/40 + x**3/6 + x \n",
        "\n",
        "### Image description:                                 \n",
        "As the degree of the Taylor polynomial rises, it approaches the correct function. This image shows asin(x) and its Taylor approximations, polynomials of degree 1, 3, 5, 7 and 9.                       \n",
        "![image.png](data:image/png;base64,iVBORw0KGgoAAAANSUhEUgAAAY4AAAEaCAYAAAAG87ApAAAgAElEQVR4Ae19CXgUx5l28md342Q32ewmuzn3ybFJ1nGS3WQdO742axtsbGMbfHA5mBtDuAyGmMPG2BgwxiBuhEDiEhISQhJCQscInYBA3IeEJHTPjGO8xjjYsY2x8fs/X8k96enpqem5u3u+fp6Z7qqu6/3qq+/tququ+hz4YAmwBFgCLAGWQBAS+FwQYTkoS4AlwBJgCbAEwMTBSsASYAmwBFgCQUmAiSMocXFglgBLgCXAEmDiYB1gCbAEWAIsgaAkwMQRlLg4MEuAJcASYAkwcbAOsARYAiwBlkBQEmDiCEpcHNiMEvj+97+Pl19+2YxF81umzs5OfO5zn8P+/fv9honVjTNnzuCmm27CF7/4RZAso3UQ3vT09Gglz+nGUAJMHDEUdiJmRcZC9ouEobIicXzyySd44403cPXq1birxX333YdevXqByOz//u//olYewvvhhx9GLX1OOHYSYOKInawTMicyFsovNzdXkMiJEyc8fpEwVJEgjo8++ihm9RPLvIyA+vd//3fMnz/fSFAOwxIQEmDiYEWImQSqqqoEcbhcLpHnp59+ijFjxuBHP/oRrrvuOvzwhz/E7NmzceXKFXG/vb0dn//853Hw4EGvMtbU1OD//b//h66uLuGvJY53330XTz31FL7xjW/g7/7u73DjjTeirKzMk4YyTLR9+3bcf//9+PKXv4xnn33Wc1990dDQgHvvvRf/+I//KMJdf/312LZtmyfIe++9hylTpuA73/kOvvSlL+FXv/oViCCVw19eir96qOrChQsYPny4KPc//MM/4LbbbgNhVQ7qnUybNg3f/e53Ba5vfetbGDRokHJb9/ynP/1JhKHyk4z/93//F0ePHhVhlTKoe4Tz5s3TTaejowOPPPIIvv3tbwucv/jFL7zkQJEIC5WZyk6///zP/0RpaaknPe1QFbnXrl2LoUOHivCEa9GiRZ7wfGFeCTBxmLdubFcyLXFcu3YNc+bMweHDh8UwSUFBAcgYvvDCCx7sZLRHjBjhcdMFGRoaXlEOLXE8/vjjYqyejNa5c+eEYf/bv/1bNDU1iSiKwSRDReRBRpF+escvf/lLDBkyBI2NjSAiKy4uRmFhoQhKxHfnnXcKY0xGk+6npKSA8tq3b580L6UMCnF88MEH+NnPfoZHH31UGPbW1lYsWLBAEARhoGPZsmWCNEiO3d3dOHLkCJYvXy7u6f1R+W6++Wb813/9lzDqNJcxcOBAfO1rX8Nbb70FZbjse9/7HmbOnCl6gUSEegfFXb16NU6dOoW2tjasWrUKX/jCF1BZWSmCf/zxx/inf/onQWznz58H/fLy8lBbW+tJTo84/vVf/xUbNmwQaa5Zs0Y8WCiy80TkC9NJgInDdFVi3wJpiUMPaVJSEn784x97btHTO/UILl++LPzeeecd8cRLRkk51MRBBpcM1N69e5Xb4vzrX/8aI0eOFNeK0TYyPPPVr34Vmzdv9kpLcRAemlD+85//rHiJM+XTr18/ce0vL8VfIQ7Kg4iMDLD6uOuuu/D0008LL+rZkJsIwchBBphkQaSnHNSbI3J+6aWXFC9BsqG8XPDwww+LHiMldOnSJZEXycTfoUcckydP9gpOPbpZs2Z5+bHDfBJg4jBfndi2RHrEQU+b9FRMT55///d/LwwxPbErBxlSGh5Zt26d8KKnXjJ8agOrJg7qtZCB0j45k/GlfOhQjLZ6GEXJT3smcqEnaxrioWGc48ePe4IsWbJEDKVRudU/Kv8NN9wgwvnLS/FXiGPChAkiH3U6dP03f/M3eOCBB0RaJ0+eFMNYNLQ3btw47Nq1C7L5kpUrV+LrX/+6p7zKBZEa9TyUQy0/xU97fv/990WvhHBRz0Ip2z333OMJSsOONDRIvcFXXnkFzc3Nnnt0oUccaWlpXmHuvvtuD8F73WCHqSTAxGGq6rB3YbTEsXPnTjGsQ0Mwx44dE8MbCxcuFAZGLYnnn38e1GOgg4ZdaB5EfagNXzDEoRhtdVp61zQERWPxjz32mCjvc889J4ItXrxYDPtQL0f7o6EkOrQEoaSv9R8/fjxo3kCbDrlff/11JZogROpt0ZM69VBoeEvpjXkCfXYRSeIgYqP8srOzxXAVlYt6HESo6uPs2bNiSI3Ig0hv/fr1ntt6xKF9PZfe7qJ5Hj7MLQEmDnPXj61KpyWOSZMmeXoBCtCxY8f6EAdNgtNkeHJysnjCJ0OuPtTEQePvZKD0hqpGjRolommNtjqtQNf0JP3P//zPIpgyFETG0t/hLy+tf2pqqhiSe/PNN/0l5eNPb6sR1j179vjcIw+lfHpDVephOrX8dBMCBKmpXyCg+SkaVtIShzo+9Yr++7//2+PFxOERheUvmDgsX4XWAaAlDhp2ojeRdu/eLSZHV6xYIYZWyMBoDxquoWGQ3r17a2/5jNEPGDDAMzlOE+I0N6A3OR6ox0HDXfSkXVFRISbP6TViMpR33HGHKAPNNVB5fvKTnyA/P19MjlPPiSaOaQiODi1BKIXX+tP3DT//+c/xm9/8RrwBRvfppQF6y4jSpoOGxmgyn970osl86p3RMJp2SEjJQz05fuDAARDBqSfHlXBGiIN6W//xH/+B+vp6MWcyevRo0PyPQhzUAyFiIZkS0dfV1YnhOnqRQTmYOBRJWP/s20Ktj4kRmFQCWuKg10vptVkaM//KV74i3l4iMtEjDiIX8qfhLe2hNXw0dGPkddxAxEHGnN6o+sEPfiDmXv7lX/5FGF6n0+kpAr0NRW8kURgip29+85vo06ePIBsKpCUIJaKe/8WLF0FDVvRqL6VF5/79+4MIiw4a9qEneJIVzTEQyZBcZIf2ddzf/e53ntdxlXha+Sn+6jNhpjfc6EUF5c036sEpxEH50Ou6NJxFBE/zUjTnoX5xgIlDLVFrXzNxWLv+Eqb0NMdAE+iyyeCEEQYDZQnEWQJMHHGuAM5eLgEaLqLhJnoqVr9CKo/Fd1kCLIFoSoCJI5rS5bTDlgC9YUPDNjTHQcNCfLAEWALxlwATR/zrgEvAEmAJsAQsJQEmDktVFxeWJcASYAnEXwJMHPGvAy4BS4AlwBKwlAQSgjjoy1u9H72ho+dvZT87YqL6sCMuxqTfLs3U/o63lCLJcTc6/+94QtmKQCxmGuKg1y3po6JnnnlGt8z00dOwYcMwY8YM8cvJydENp+fpTxG54Zq/4Sp1x3VljbqyWz0dbtotiOP1t5uZOFTG1TTEoSxbLSMOWu4hlEMxPtqz3ZSc8NkRk11x2bGu7IZpf8MOQRxvXXYycaiMr2mIg8pE6/QwcYT3ZGm3hquQvR1xMabwdF3RjWieq85sEsRx+S8XmTisShy0zwENVdEaPeplH1R4xGV5eblYBoKWgqCDGqj6R3sS0BIJtBMdpWOnX7QwkbxIbmo5xvKaFtWLZX6xyIsxebfLWMg82DxqmlOw3NEbH398NaH0T2tTtW7L9DhoPwBlo3vaE0G7AYwWmNqtfSKhFVRp2Wvq4WjvWd0dLUwkL5JbvORDDT5eeUcrX8Zk/h7HzsMzsaH6CUEa0dKDeKUr0z+1/dS7tgxxaAtPq5b624dAG1ZbMbStJflFy8hq84ulO5qYFLnFEo+Sl0zJlTBWOzMm8xNHWs1w7Kh7holDY1QtQxy0ZaiyZSYt4UyriCpuDSYfp9agKJvjRNPIavOMlTuamBS5xQqLOh82suY3slRfdqont9uFleX3oejYq7bCpbQrWV35GFGNh2mIY/ny5aBNfAYPHiy2xaQ9EMrKysSPylxSUoJp06aJOY45c+b43YNAg084FUEpZ8UARtPIKnnF+hxNTIrcYo2J8pMpeTzKE4k8GZO5ybCx/bCYGD/QmJ1w+qdnR9V+piEOdaEifa1t5IoBjKaR1eYZCTe9cTZ37lzpWL8ME23kc+utt4o9FUaMGCFNR6+8itz07kXbj42suY2sUv92qqeas+mCOFo6TzBxaIwyE4efr8qVhhCvs9vtFm99qfMPljhoQlsdnww/7SZH38MwccTfENvJyCp6ZidMefUvYG1Ff1BbtBMuI3Wl4QkfJxNHnIjjhRdeEFtx0nacL774ojDwtFXoj370I9A2nT/96U/FNp20HecPf/hD3HTTTejXr5+nx3Hw4EHceeed+OUvfyn27a6pqRFpDBo0CLRd569//Wsx9KcoifqclJTExBGnelfXQ6IZIzV2s18TWayvGoDsQ8+KdpVodeXDFBqPhCcO17IX4Zw6PKI/SlPWMGi+5vrrrwf1AOhNJSIJms8h4vj85z+PPXv2iPhKOHoNlvaVpu1JlaGq22+/XezvTPkUFhbitttu8xBHr169xLcp/srAxBH/3gbVTaIZI3/6aEZ/ZX6j9ux2Jg4NaZCTiSMOxEE72U2dOtVDLk8//TTmz58viOPf/u3fPP7UE1GHo5cHiDiIbK677jrccMMNnt+Pf/xjD3HQiwayxsjEwcQh049w7tmFDPedWi/mN1q7zoq2ZBdc6rqVYdLhCi+vhCcOtSBjdS0jDhq6Usrhjzio90H7byvh1GcaqkpJSdG9p4Rj4mDiUHQh0meZMYp0XtFMb1PtSGzZP8bTjuyCSy0zGSYvltBxMHHEYay7tLQUP/vZz8SX2DRcRWShDFWpiUMdrqWlxWuo6sYbb8T69euFYtN4rMPhENdMHOYgBXUD9Xcta7j+4pjd3w6YzrUfEb0NWqdKyNvtSrhhRR2u8PJi4ogDcZAy+pscVxMHhVNPjvfv398zx3Ho0CExOU4E9JOf/ER830LhAxHH9773PXzta18Tr+R+61vfQlVVleepSjQSiTz4ddzIkpIdjKxWZ+yAqeTECrE+VXv3ObzR1YgP66bho7fOGG4nWpmY1S2rKy+W0HEwcUgMpVkrXFYu2XccsnhG7jFxMHEE0hOZMQoU1wz3na5urKt8BDvqpuF1txt/OfoKrtaOxkeXI1v3ZsAqqysdrvDyYuJg4jD8JMXEEVnjIWu4ZjAsoZTB6pjqzu0Sw1THmotxsbkIH9cMQ1XmHHR2dhpuJ6HILR5xZHXlxRI6DiYOJg7DDYKJg4kjkIGTGaNAcc1wf+v+cdhQPQR/6jqHj/aPg7tkAp6bM1v6ersZyh1KGWR1pcMVXl5MHEwcTBxx0gFZww3FEJghjpUxnTpf6ZkUf+/YElypHoHX5k/H3r17eXLcizb4Ow7DRtMMjdJIGXiOI7K9AiMyDzWMlY2sP8xWxpR58GmxxMiFpkIxRFW8cRLWrlmH3dktuPjWX2xnK2R1peEJHyf3OOL0tOmv4YXrz8TBxBGuDoUTX2aMwkk32nFPt9aI3kblydW4sn88XHufwvz5LyFr6ymkrGhEd+efmThU9MHEwcRhuEHwHEdkScmqRlZmxK2Iib6Dyjg4GWsqHsY79fPwYdUILFswHVnptVif1IhD+zt4qEpFGnTJxGEh4gh2dVxtAy8qKvIsUULff6SmphomDUqLiYOJQ6tTWrcVieNo817R2zhYP1cMUeWunYTNabmCNBx7e7ZLtiIubd1o3TJMGp7wcTJxmJQ46CnI5XJ5GfZgiUO7rLqy1zop0IkTJ/D1r39d7L2uVSh/biYOJg5/uqH4y4yREsZMZ5e7Gxurh2Jj1SB8UD0CDTlPYcWKNVif1ID8rBa4XW7RBq2Gy4iMZZh8mELjwcQRJ+Lw9+V4LJZVJ6WiL8+/8Y1vMHHEqf6pDmQN10jDN2MYq2GqOrNZ9DYaa8bgnfKRWLpoHtYvP47MtCZ0d7nR7XJjedlpXP7LB14PcWaUfbBlktWVhid8nAlPHC8VnMCILXUR/VGaskpUlkunJ/hYL6tOS7DTMu5f/vKXeagqjqRB+iFruDL9MfM9K2GilW9X7XsAWVWDcbX6SWxaNg3rlldjS/I5tLW60OV0YUJmPX6zpAIlDZHtbZqhDmV15cMUGg8mjjgQh2x13Fgsq05KW11djV/96ldob2+XkpxawXmoKrLGQ9Zw1XK30rVVMNFQcNahGVhZfi8uVj+Bik1/wKplBUhd3YimRic6ul0Yk35YkMaGyoaEI3kNT/g4E5444tEoZcShXuQwWsuqK5hp86fi4mImjjj1PKxiZBV9MXK2Cqb6pt1iiOpQxaM4nzcGy15NE6/dnj7RhdYuJ0ZsPYSbllRgS02jaB9WwWWkjpQwMkw+TKHxYOKIg9FQL5dOT/GxWlad5jWUCfP6+np885vfxNmzPRvVKMokO3OPg3scMv2gezJjFChurO53dDdjXcUj2Fr+AC46hmPFq0uQvOws6us60dLhxO831eHm1yqQeeCc56HKCriClZ8Mk4YnfJxMHHEgDqpgf5Pj6h4HhYvksuorV64U8xu0c+AvfvELpKWleRqGEaVj4mDiCKQnMmMUKG4s7tMQVfahGVjh6IXXKwcjNWk21i49hup97Who68ZjGw7glqWV2HWo2attmB1XKLKTYfJhCo0HE0eciCOUijYSh78cj6xxNyLzUMPIGm6oacY7ntkx1Z5NF0NURyoewd4Nk7Hy1VqU7mnF8eYOPLiuFnckVWLvsfNepEEyNTuuUOpdhknDEz5OJg4mDp9G4k8JuccRWVKSNVx/dWB2fzNjauo4hpXlfZBTfj+OZD6FpFdKUZR7HnUN7bh3dQ3uXFGFytM9H/xp5WxmXNqyGnXLMPkwhcaDiYOJg4kjTjoga7hGG7/ZwpkVU7erHZuqn8BaR280FgzHsoU7kZ/dgsqTrbhrRRXuWVWNgw3+3zA0K65w6l+GScMTPk4mjjgZjXAqXBaXh6oi2yuQyTrce7KGG27a8YpvRkw0r5F7aKYYojpdOggrX9mAXdtbUHy0BXckVaHvulocb5Zv1GRGXOHWsQyTD1NoPExDHGvXrsXo0aNBy2roHZ9++qmYzJ00aRKmT58uvj/QC6fnpxWwMuQSTSOrzTNW7mhiUuQWKyzqfGRKrg5npWvGFBuSrz6dJkhj/77+SHltCXZsbkLOwSYxCf5YygGcae0K2OtOtLrSs6NqP9MQR2NjoyADf8Rx/PhxLFy4EEQgLS0tmD17thqH9FprTBQDGE0jq80zVu5oYlLkFiss6nwSreGqsVvp2mz1dOp8BZY7eiGv/AFkrnoe6RvPYlNFo3jd9om0g2jucAYkDXcnr46rNbCmIQ4qGBk9f8SRkpKC/fv3e8o/ZcoUXLp0yeOWXWgbnmIAo2lktXnGyh1NTIrcYoVFnY/ZDJK6bKFeM6bo9jhaOo5jraMPNpXfi90bp2FryiksKzwlvgZ/Kv0w2rq8FxHV1qNYaDQvE85Bd+MvZ+XLCGnjWsEt0z+ZPaV7liGOV155BU1NTR489PU1rfaqd5SXl2PmzJniR/dJQOqf0+kUJEVG1kq/GTNmYN68eSGX+ejRo7juuuvw85//XPyGDRsWVFokN7UcY3l97dq1uOUdLZyMybtdRlLOl/9yEakV/bHO0Rul6eOxdcMpzC9oEKTxQuFZvP/Bh1J9+uB1Jy7MnQznAzfijanDcKWrTRo+kmWPVVoy/dOzq2o/WxKHGiBda9lfeXKO5tO5Ns9g3eJpJ8LLqh8+fFh8pR5sWZTwitwUdyzP1JhimV8s8mJM0elxOF3d2F41FCscd2PfzhFIXVuPSVt7Fit8de8pUNvyV79ulwuujFQ4H70Dzv63wbU1GW5XzwOTvzhW9Zfpn9aGat2WIQ67DVX5+3I8msuqM3FEx1CFajhkDTfUNOMdL96YiBTyaieLyfB9BUOwYVUthm/sWUIktarBL2GQ3NwnjsI5dbjoZTinj4L71HFP+Hjjika9yjBpiULrtgxxaCfHZ82apcXi160VuvLkTD2OssJW5KQ3R/RHaWrzVLvjtaw6EceXvvQlMUx1yy23IC8vT1pOdZnpWpGb1j8WbpmSxyL/aOTBmCJP5HsPzhKkUbz3UWxYVY7H1x3AbcsqkXvYewkRdX26nU64Nq2Gs9+tcD72O7iyt/j0ShKtrvwa089umIY4li9fjrFjx2Lw4MEYN24cKioqUFZWJn5UVnqbauPGjaDXcWkC3d/8hh5gtZLQtWIA40UcstVxo7msekdHh2dRQyKvb3/722hu9t+g/MlN6x8Ld6I13FjINBp5xLOeHIdeFqRRUNIPG1aX4MGVteLjvn2n/D/IuesPwPmHQT29jDkT4G48o/swFU9c0agnSlOGSc+Oqv1MQxzqQkX6Wit4NXFo78XCLSMO9SKH0V5W/dZbb+Vl1eP4Aais4cZCD6ORR7wwVR9ZJkhjV+lDSFldhLuXVeOBtTWoP9ehSwTuri641i2B86GbxVtT7oJsn16GWj7xwqUuQ6SvZZgC2WAmjjgYjngtq37mzBnQm1GkgHV1dfjWt76Fhgb5uK9aWRXCVfvF6lqm5LEqQ6TzYUyRGao6eCxZkEZWaV8kr8rH7UsqMSTtoFjtVq/O3LUVcI7uL3oZrpdnwN3SpEsu6riJVldMHCZ9q8rf5Li6x0GKG8ll1Tds2OC1rPrmzZsDNhh142HiiIyhU2SaaMZIwR3Jc92x9VjuuBvby+7HujU7ceuSSjyddUTs4KfNx93RDteyF+Hs+xs4h/aBu3SPYf1PtLpi4jApcWiVOlLuaL5izMTBxBFIT2NpYA8cWStII73sfqxak4lbllRi8d5TcOm8busu3wvnk/f39DJemwt3u/95Dz2MscSll380/GSYmDiYOAw/VQVSTiYOJo5AOiIzRoHiBnN//+EVgjS2ld2PpauycdtrFdha27PNqzodd2sLXAtn9kx+j3gI7ipHSO0hVrjUZY/2tQwTEwcTR0gNRU9pmTiYOPT0Qu0nM0bqcOFc19Ql9ZBG6f2YvzIHdy2vQslx382X3EW5cA65B84Hb4Jr9SLQmlOh5hsLXKGWLdR4MkxMHEwcITcWrUIycTBxaHVC65YZI23YUNwVtYs8pDFrxS48uLYW9U3ehOBuaoBr7pSeXsa4x+Guqw27DUQbVyiyCDeODBMTBxNH2I1GUVAmDiYORRf8nWXGyF8co/4llT0f96WX9MXkpF0YvqUOTe3dHv0Wy/Ts2g7ngDvhfPi3cG1YDnf3X+8bzUcvXDRx6eUXCz8ZJiYOJg5PwwpXGZk4mDgC6ZDMGAWK6+8+EUKBY4J45Taz+CGMXFqA5/OPo8v51zWn3GdOwfns2J5exuTfw32sPmJ6T+WKBi5/eGPlL8PExMHEEbEGxMTBxBHIqMmMUaC4evdpgcFdpcMEaewofAQDlpRAveaUWJRw+wY4H7kDzkduh2tbCshPL61w/CKNK5yyRCquDBMTh42Ig5ZamTt3rrRRyF7HXb16NW644QbP7/Of/7xY0sWoIjJxMHEE0hWZMQoUV3u/29mOrJKBPaRRMAiPLq9A2Ym/vkbrPl4P55Qne3oZM0bDfTp6e2ZEEpcWZ7zcMkxMHBYlDjFeq3lyCpY4uiXju/v27cP3v/99KQlpFZqJg4lDqxNat8wYacPK3O1tZ7C15GFBGhm5w/FEci1OtPTsCy4WJUxdCefDt8D5+O/g2rlNulyILB+j9yKFy2h+sQgnw8TEYVLi8PfleDSXVVcrIy0WOXnyZCaOOCw5o9SDrOEqYax2jgSmhoYqpJbeJ/bT2LZjEp7OqEd7d8/wk/vQfjjHD+zpZTw/Ge5zxpfMCUeWkcAVTv7RiCvDxMQRgDh27NiBVatWRfRHacoqOl7LqqvLRL0NWoFY7Rfomnsc3OMIpCMyYxQoLt2vP5KJ5LJ7sMbRC+s2P4+kktOiN+Hu6oRrzWLxTYZzcC+49+QEpbtG8paFCReXLO143ZNhYuIwIXHIVseN5rLqioIWFhbi+uuvD7rhMXEwcSg65O8sM0b+4ij+FZWvYbWjF1LK7sGClJXIr+9Z8t9dUw7nqIdFL8O14Fm4zxvfCkBJO9xzOLjCzTta8WWYmDgCEEe0KkWWrow41IscRmtZ9TFjxoj92GVl1LvHxMHEoacXaj+ZMVKH017vKX5GfNi3qfQ+zE7JwLHmTrjb2+BaOq9nUcIn74fbURT0w442n1DdoeIKNb9YxJNhYuIwIXHEa1l1UkaXyyWWU6dl1YNVTiYOJo5AOiMzRnpxu7vbkVX0hJgE37b3YczNKBPzGUQSYlHCvr8R5EEkohc/Vn7B4opVucLJR4aJicOExEGV7W9yXN3joHCRXFad0svJycGvf/3rkBohEwcTRyBDJTNG2rhNTYexteRBQRqZu5/A+rITcLU0gYajnA/cKIanaJhKGy8e7mBwxaN8oeQpw8TEYVLiCKWijcSRfcdhJL4sDBMHE4dMP+iezBip4x46tAMbyu7FSsfdSMt8Go4TLWLCmya+xaKEa14FTYir48Tz2iiueJYx2LxlmJg4mDgi1viYOJg4AhknmTFS4paWzheT4PT21PKtS3H2xGk4n5/c08sYPwD0yq0S1ixnI7jMUlaj5ZBhYuJg4ohYI2TiYOIIZJRkxsjZ3Ylde0aJoanNpfcjKXsXOrO3iY/46GM+V+oq0Md9gfKIx30ZrniUJxJ5yjAxcTBxRKwhMnEwcQQyWP6M0blzx5Be3E+QRnrhY8gu3AfnjNE9vYwpT4KWDwmUdjzv+8MVzzKFm7cMExMHE0fEGiQTBxNHIGOlZ4xqa7eL+YwVjruxdecE1KfSooS3i4UJXds3RmVRwkDlDPa+Hq5g0zBbeBkmJg4mDiaOOC4rIjMWsoYri2fme1pM+YXPYqWjF9Y77sHGjMVon/zZooTPjoX7zMmI6Wa0ZaLFFe38YpG+DBMTBxNHxBon9zi4xxHIoCnGqK3tHHYUDhJDU/TKbda65WJzJdpkybVre9QXJQxUzmDvK7iCjWfm8DJMTBw2Io5gV8fVKm1nZycGDhwolhv52c9+Jr7p0IaRuZk4mDhk+kH3yBgdPlQIMfntuBvb84eibtKonuVCXngatK1roDTMeF9mZM1YXiNlkmGyDHGcPBe1zrEAACAASURBVHkSU6ZMAa3amp+f71PuqqoqjBo1CjNmzBA/Whbc6KEVomIAo/nNgzbPYN3RWFZ94cKFgjioLKdPn8Yvf/lL8SW50bIpcjMaPpLhZEoeyXximZYdMe0tXYS1jt7iddtNW/+I9odugXNIb7iLci1JGIo+2LGuZJgC2dbPBQoQi/vXrl0ThHHhwgV8/PHHghhoaQz1QcSRmpqq9jJ8rVS+clYMYDyJw9+X49FcVn348OFYuXKlpwHffvvtKCoyvv6PIjdFjrE8y5Q8luWIZF52wtTW3ozMPb8XQ1NppfcjY+G0nl7Gollwn2/x6Fwk5RfLtOxUV4rcZJgCGVdTEEdLSwsWLFjgKWteXh7opz6iRRyXT63H+/XzIvqjNJXK0TvHa1n1V199FX379gVt8HTo0CF89atfxYYNG6RlVZefiYOHqtT6oFzvP7gHm+i7DMfdyNw9CIcG9xHrTLnL9xrWLSUts55lRtasZQ5ULhkmte3VuzYFcZARS05O9pSvpqbGp3dBxDF27FhMnz4dS5cuxVtvveUJr70oLy8Xq7/OnDlT3CIBqX9OpxPU26Dfe2c24IMjL0b0R2kq6eudX375ZdB8hXJv2rRpgjiPHj0KWlZd8Z8/f75XuHHjxmHevHno6OjAddddh5///Oee309+8hMRb9CgQWJvESUN9ZkU6amnnhJx+vTpg169emHz5s2e/NRh9a5Jbmo5xvKaeqWxzC8WedkBU37RXDEsRftnpKdNRGffm3AxeQmuXP6zrerLDnWl1WkZJq1N1botQxzvvvsurl69KsrvcDhAS44bPbTMqzw5k3HU3ouFO97LqisYb7zxRhAhK+5AZ0VugcJF4z4pfTTSjWeaVsbU1HQGmYU9+4FvKXkABc8Og3N0f7x3+pjt6ol0xMp15U/HZZgC2VZTEIeRoSo1EGLKYcOGqb2k11rBKQYwXsQRr2XV29raoGCnXQp/+9vfBtXIlbhaecbCLVPyWOQfjTysismxbxvSyvqIoamM3CdwasBdcK1bAndXly0NLNW9VetKprcyTFKDCsAUxPHJJ59g4sSJYshEmRynYRH1cenSJY+zvr4ec+bM8bgDXWiFpxjAeBEHlcff5Hg0l1U/fPgwaPL9xz/+Me644w6QHLWykbkVucnCROueTMmjlWe007UaJmd3N7LzJ2MVbeta1hsZq8aj+w+D4K4/4NEjq2EyWsd2xCXDFMimmoI4qJDHjx/3vI6bm5sryp2VlQUa96cjIyMDNBdAr+PSMBW9rmr00CqHYgDjSRzaMkXKHU1MitwiVdZg0pEpeTDpmCmslTAdPVYD2miJJsC3Fj+EfVMGw7Vptc+ihFbCFIwu2BGXDFMg22oa4ghU0HDuaxVEMYDRNLLaPGPljiYmRW6xwqLOR6bk6nBWurYKpl17FokeBu2dkZE5Eq1Tn4T7xFFPL0Mtc6tgUpfZyLUdcckwBbK3TBwmXcfIiDLrhWHiiOwrs3oyjpSfrOFGKo9w0mlqbkDGnsE932aU3Yf8BWPhykiVLkpodkyhysOOuGSYmDhstOSIEaVn4mDiMKIngcIUlqVh42cT4Jn5g3DyuYlwnz2l28tQpyUzRupwVru2Iy4ZJiYOJo6Ajd1oI+ahqsiSkqzhGq2TSIfr7GjHjvwxoCXQaYe+rNXj4crLNLwooRkxRUJGdsQlw8TEwcTBxGHS4UhZw42EsQs2jcraPdhW0lcMTaUX9cfBV2bA3XwuKP0xG6ZgZeAvvB1xyTAxcTBxBNXw/TUc8ucehz17HN1dXcjKfQb09fdqRy9kbBmDrj05IemNzBjJdMvs9+yIS4aJicMGxDF16lTQB3tGGlegOY5+/fqBllSnpUuMpKcOw8RhP+KoO1KF9L09W7puKekLx6o5cLeeD1o3FD2RGSMljBXPdsQlw8TEYQPiCKahyYiDlq7/wQ9+ELJRYOKwF3Fk5z0nlkCn12wzs0ago2xPyLqh6KjMGClhrHi2Iy4ZJiYOkxIHLTJI+2H89Kc/Ba1aS42JvpYfMGAA6Ovx66+/3tMrIL+UlBQR5nvf+574EPIXv/iFCEMLQqobIhFHe3u7Z8MmWghx586dIgz1NGhxxBtuuEGsPqyOd++992LFihUi3OLFi/HII494pUthmTjsQRxHjtUio+gRMZdBGy4VpsyFu6PDp77V+mH0WmaMjKZhxnB2xCXDxMQRgDgKj72K9AMTIvqjNAMpf0NDz05otH4UEcXZs2dBy63/z//8jyfuuXM9E5Na4qDVdSl92phpyJAhnvDkR8Qxd+5c0Cq55CZi+c53viPIhJYc0S5popTz1KlTojdCy9n/8Ic/hFI+5T6dmTgsThxuN3blPY9kR2/x1lTGzifRXFHqpT/q+g7lWmaMQknPLHHsiEuGiYnDpMRBy6pTD4B+X/nKV7Bnzx40Njbi+9//PkaOHInt27d7dufTEsexYz0rkBYWFoo1p9SNi4jjvvvuQ3Z2tscg3HzzzaCl5mXEQWmsWbMGX/jCF8RS6+o0lWsmDusSR/2RGmQVPSp6Gaml92H3xhfg7u7y6IhSx+GeZcYo3LTjGd+OuGSYmDgCEEc8lDEnJwc33XQTqLdB+d96662e/b/Pnz8vNleioSyl16AlDuqdULzi4mIRV40hHOKgbXu/8Y1vgIaq1Gkq10wc1iMOl9OJ3F3PIcVxD5Y77sa2nCfRXFuhW79KPYdzlhmjcNKNd1w74pJhYuIwIXFs2rQJvXv3Fo2XhpK++MUvCuIgQmhubhb+FRUVYi6CGkywxEEr7w4ePFikU1tbi+9+97ti8ydZj4O2kKW5D1pskibQaXMtbWNl4rAWcRw+Uo1dRY+JXkZKaR/s3jwfbpfTp1619RyOW2aMwkk33nHtiEuGiYnDhMRBO/jdddddYnlz6lkoPQ7aoIomvcmA0y89PV008mCJw9/kuD/ioPLQkBntE0INlHYFpDLRCsTqBsvEYQ3ioF5GXs4spDruFaSxJWcomg/VetWlul4jeS0zRpHMJ9Zp2RGXDBMThwmJI5pKT0NV0UqficP8xHGgrgy79vbMZawv7YP89IU+DwDR0g9KV2aMoplvtNO2Iy4ZJiYOJo6IEQkTh3mJw+nsRl7OdGxw3NPzmm3OMDQfOxyxujdqmGXGyGgaZgxnR1wyTEwcTBwRMx5MHOYkjpraQuQU9++Zyyi5D3syl8a0l6E29DJjpA5ntWs74pJhYuLQIQ56c4kUN5rDOvFqGNHEpMgtHthkSh6P8kQiz3AxdXd3IzfnafFdBr0xtSV7JNpOn4zYg0IoGMPFFEqesYhjR1wyTEwcOsRBr8FSo4umkY2FMuvlES1MJC/l9WG9fKPtJ1PyaOcdrfTDwVS5bxeyS3q2ct1Y8gBKslfHlTAUGYWDSUnDjGc74pJhYuLQIQ56W4iMIC3xQcMvdvpFAxP1NEhe2resYtnAZUoey3JEMq9QMHV0tGNXzh+w7rOvv7dmjUHHuZ5VCCJZtlDTCgVTqHnFMp4dcckwMXHoEIeicDLBKWGsdrYjJqoDO+IKFpOjLAOZJQ+KuYzU4r4oz9toil6Guo0Ei0kd18zXdsQlw8TEwcRhOuMSioGQKXko6ZkhjlFMbe2t2LVrrNgvY6WjF7btGI+u1hZT1qtRTGaQfzBlsCMuGSYmDiYOUxqYYBothZUpebBpmSW8EUzFRWnYXtqzK1/a3odQVdjzUahZMGjLYQSTNo4V3HbEJcPExMHEwcRhwa1jW1ubkJM7CqtoV76yXkjPmAxnZ7vp61JmjKxAEP7KaEdcMkxMHEwcpjc2/hqr2l+m5OpwVrr2h6moYC22ld7f8yFfUT8cKAttG9d4yMIfpniUJZJ52hGXDBMTBxMHE4dFehznmhqwM28YaEe+NWW9sT1jGpxRWPo8kgZVm5bMGGnDWsltR1wyTEwcTBxMHBYgjj15y7Gl7D7Ry9hS+AgOVxVast5kxshKRKEtqx1xyTBZhjhoP+wpU6aA9oTIz8/3KffVq1eRlJQk7s+ePVt8vOcTyI+HVgkUt0xwShirne2IierAjrgI09mzJ7Fz9+/Fjnxry3ojM2Om+L7IanqnlNeO9WRn/VPqTXv2Y0o93p/zXAW4oKW2Ozs7A4QK7fa1a9cEIVy4cAEff/wxZsyYIXa/U6dGS37Tvtt0HDhwQJCI+r7sWisUxW1HJbcjJqovO+Iq3L0Em8r6iF7G1oLHcfTAPkv2MpT2ZNd6sisuWZuS2VO6Z5g40tLSMGbMGNCWp9QjuHjxYqC0Dd9vaWnBggULPOFp32v6qQ+6T+Ho+OSTTzBq1Ch8+umn6iB+r9WKrb6WCU4dzkrXdsRE8rcTrpMn65FdMFjsyJdcdg+yM+fG9av8SOq3nepJLRc74pJh8mtMP7thmDgoPPUMaL/r5cuX48knn8T8+fNRXV2NDz/8MFA+0vu021xycrInDO2Kl5qa6nHTBRGWmqxoSOvy5cteYRQH7a89c+ZM8SM/EpDej/Do+VvZz46YqD7sgqsgdwE2lvVssLRt9yB0Np+xlQ7apZ60NsCOuGSYFFvq7xwUcagToTWRaEhp4MCBGDp0qDD8b7/9tjqI4etIE4c2Y/WTg/qalEPttsO1HTFRvVgd17GjtcjaM0AMS6WU3YucrJctj0mvvVi9nvQw2UH/9HDJ6kprQ7XuoIjj/fffB+2F/eKLL2LkyJFYv349mpqa8NZbb4ntRqdPn65N35Cbh6oit8+DTBn0lMcqflbGlZM1BymfbbCUnv8Ezp46Ih5YrIzJn97YERNhtSMuGaZAhtswcSxdulQMTy1atAgHDx4EveWkPqjbQ8NXoRw0ZzFx4kTxppQyOU49GvVRUlLiNTm+bNky9W3pdSIpuUwZ/MnBCv5WxFVf58COwsdEL2MDbeO6c4lXD9eKmALpih0xEWY74pJhkhrUYCbHCwoK8M4770jTu3LlivS+7Obx48c9r+Pm5uaKoFlZWTh69Ki4JpBEFjS3MWvWLNAbWEYPf8ouE5y/OGb3tyMmqzVct8uFnVl/xHrHPWICPD13KJoaT3uRhtUwGdV71r/IjR4YlXmo4WR1Fci2Gu5xBErIzPf9CVYmOH9xzO5vR0wkc6vgOlhdhMyiR0QvI7X0PhTkrvIhDEWHrIJJKa+Rsx0xWUn/jNSREkZWV4HsOROHSb8qVio32LNMGYJNy0zhzY6ru6sL2TumejZY2r5rBFpbmvySBsnW7JhCqX87YkrEumLi4CVHpMYrFOMQjzhmNkjVjhxs39tP9DLSSu/H3t0phmRuZkyh1rEdMTFx+NII9zi4x2HIyIVqSCIVz4wGqaujA1lZE7HW0VssTLg9ZzRaW88blqcZMYVbX3bExMTBxOHVqO2o5HbEZMaGW1mcgfTih0QvY3PJAygr2uKlW0YMsB3ryo6YzKh/RvQrUBhZXflShbcP9zi4xxG0wQukkNG4L1PyaOTnL82utjbsyBqP1Y5eYpOljJxx6AxxgyWzYPKHNRR/O2IiOdgRlwyTN034upg4mDiYOAzqQPmeTdha/KDoZdC53JEVluxkDTcUo22GOHbExMTBxOHV0O2o5HbEFO+G29nagszssT3buDp6YcfOCeju6vTSpVCMth3ryo6Y4q1/oeiWkTiyuvKlCm8f7nEYfNo0UhFmCCNTBjOUL9QyxAtXWd56bC7pK3oZNKdRWZEbNmEoMogXJiX/aJztiInkZEdcMkzeNOHrYuJg4oiYIYyGIVLSlCm5EiaS587mc8jIHoOVjl7iramsnVNA32pEMo9YY4pk2f2lZUdMhNWOuGSYfKnC24eJg4kjosbQn0EJ11+m5OGmrY1funMttnh6GQ+junpPVGQUS0xajNFy2xETycqOuGSYvGnC18XEwcQRFaMYacMkU/JI5dXecBqZWaPFXMYaMZcxNeK9DHVZY4FJnV8sru2IieRmR1wyTL5U4e3DxMHEwcTx+uso27EKWz/rZWwrfgjVtUVRl4us4cbCyEcjDztiYuLwJg1yMXEwcUTdQEbCQEXLIHWeOokdO8b89Y2pnOj2MtSyiBYmdR6xvrYjJpKhHXHJMPlShbcPEwcTR0ISh9vtRkX6SmzzfJfxEKr3742pLGQNN9YGP1L52RETE4c3aXCPg7eOjamhDMc4RdIgdR07gsz0pzxff2fumhTVuQx/uCOJyV8esfa3IyaSoR1xyTD5UoW3D/c4uMdhCfKQKblR40gbLNVsTsLWvQ/3fP1d0hfl1Xlxwx8JTEaxxyqcHTExcXiTBvc4uMcRN6MZrCEL1yC5jx3Gjk0TsMbRW8xnZOWOD3mNqWDL7i98uJj8pRtPfztiInnaEZcMky9VePtwj4N7HJYgD5mSywylu7sb9euXYHvhoz0r2Zbej5LyDFNgDhWTDG+879kRExOHN2lwj4N7HKYwoEaMXSgGyV1Xi53rJmJ9Wc/e3zvyR6C1rcU0mEPBZERW8QxjR0xMHEwcXkbDjkpuR0zBNlx3ZwfOrFyIzPzBopexsawPCorXe9V9PI2rkrcd68qOmILVP6V+zX6W1ZUvVXj78FAVD1WZzqDqNTiZkqvDu6scyH91AtLK7hOksX3PYDQ2nTElRqOY1PjMfm1HTCRzO+KSYfKmCV8XEwcThymNqtZAypScwrrbW9H+6vPYvmM4Vjjuxrqy3sgpWGhqbIEwaWVgBbcdMZHc7YhLhsmXKrx9mDiYOExtXBVjKVNyd+ke7Js1EluKe5Y/3763Hw4frTY9LhkmBbfVznbExMThTRrkYuJg4jC9gfXXcN0tTXDOn4GMlKfEa7a0nWt2/jQ4u7sti8lqRKEtLxPH65bQPX9tSqlPX6rw9mHiYOKwhKKrDRItF+LanY1jo/sjY/cAz2u2FVXZlsCiNE41JsXP6mc7YqI6sSMuGSZvmvB1MXEwcVjC2CpK7m48A+ecidj18miklfURpJFZMBRt7c2WwKEmBgWT2s/q13bExMRhQuJ47733MH/+fEyePFmcya13DBw4EDNmzBC/xYsX6wXx6+evMdpRye2IiervypUrcGVtxvnH78L2jNFY+dkEeF7REssRhqKPdqwrO2Ji4vA1rXHvcaSnpyM/P1+UjM7k1juGDh2q523IT2mo2rMdldyOmNynjuPCrHGoGPsY0vf2E72MrcUP49jxGsuSRiIaI237s5Lbju1KhimQYY07cUyZMgWXLl0S5aQzufUOJg5jk24yZbBSQ6Wyul1OuLaug7P/bdi+fLL4Apxetc3ePR7O7sju/x0P2diprhT52RETYbMjLhkmPRus9os7cQwfPtxTnk8//RRqt+cGgEGDBmHmzJmYM2cO6uvr1bd8rsvLy0VYCk8HCUjvd+3aNV1/vbBW8bMLpvdbm/DG1GE499DtSN85Cssdd2ND2b2oqt1qmzqzS12p24YdMRE+O+KSYfIxqhqPmBAHzWE888wzPr8jR474EMWIESM0Rexxvv322+LiwoULmDBhAt544w3dcHqeytOQ9kwKofWzutvqmNzdXXClLIPzod+ieOpwpH+2BPr2vY+goeGorerL6nWl11bsiIlw2hGXDJOeHVX7xYQ41Blqr40OVanjrVmzBocOHVJ7Sa/1FDwRlcGfHMzi7z5QDefYR9H9wI3YmvwcUsruEV+B79w9CR+8/76tSIP1z9jQq1l0U2ZkzVLGYMshwyQ1qGb4AHDbtm0BJ8fpTaurV68KLJcvXxZvYLlcrkDYPPf9CVQmOH9xzO5vRUzujg64Vi6As+9NOPPkQ9i2c7wgDFrV1lGRKgjDirgC6Qpjsg55JFpdeYynn4u49zjeffddvPTSSz6v47a1tSE5OVkUu7m5WQxz0eu4NORVUVHhB46+t78GnGjK4E8O8fR3V5bBOeJBOB+4EYWvLUJ6Uc++GduKH0bD2XpPL4PryhpG1o71RO3DjrhkmPQt6V99404cfy1K9K78GUaZ4PzFMbu/VTC5W8/Dtfg5QRhdw/ti47a1oOXPaRI8Z89YOLs7PaSRiA3X7Hrmr3xW0T9/5ffnb0dcMkyBrDETB3857mWg/TWcSPq7S3bD+cS9YmiqafkibMx4DrTO1DpHb5SVLdMtj0zJI1m2WKbFmKzRiyKdSLS6YuIAdA1RIipDLI2iXl7u5nNwvfiM6GXQJHj53jJk5A0TH/RtKr0fx48Vc11Z/EHGjgY2EW0FEwcTh19jrGfco+EnFiXM3wHnwLvEa7bOdUuRVliO7Z+9aptRNAAd7eek5bSjQWJM3OOIRnszmqZM/5g4mDikBtmokoUazt1wBs7Zf+jpZUwcgta6g1i2fZNnPiOvaAqIWAKlL1PyQHHNep8xMXHEUzdl+sfEwcQR0ChHQ3lFL2PHJjgf+x84+98K1+a1qDvbitXbXvLMZ1RWrDZcNpmSR6P8sUiTMTFxxELP/OUh0z8mDiYOw8bZn4IF6+8+eRTOaSN6ehnTRsB98hgyaxqwNXu8eGtqU+l9OCGZz9DLT6bkeuGt4MeYmDjiqacy/WPiYOKIGXGIRQk3rxE9DOpp0DLo3U4XXsk9iMyCgWISfHtxP7SdPxV0mWRKHs/GF07ejImJIxz9CTeuTP+YOJg4gjbSoSik+0gdnBMG9/QyZv8BNLfR1N6NP6btQXrxg4I0du4dDqcztFVtZUoeSnnNEIcxMXHEUw9l+sfEwcQRVeIQixImv9bzttSgu+HanSUmu/efbces9ZvFLn20FHpR2aywyiFT8ng2vnDyZkxMHOHoT7hxZfrHxMHEEZbBlimn+0AVnGMeEb0M10vPwN3cJPLavr8RizYkiQ/61jh6obrG+CS4v/xkSu4vjtn9GRMTRzx1VKZ/TBxMHBEnDrEo4fL54stv5+/7gL4EpwbgdLkxv+AEkjfPFW9O0eq2x4/mRiR/mZLHs/GFkzdjYuIIR3/CjSvTPyYOJo6IGG5FSd37iuEc3renl7HkebjbWkX659q7MXpzHdIzJ4uVbdNK70NjY+S2dpUpuVI2q50ZExNHPHVWpn9MHEwcESEOd2sLXK/M7pn8HvEgaFVbRekPNrSj/6pqZOWM7NkPvPQhdLSf8dxXwoVzlil5OOnGMy5jYuIwq/4xcTBxhG3A3Xvz4HziHjE05Vq5EO7ODk+aeYeb8eCyfdixe7AgjcySAejubvPcj1TDYCNrDSNrx3oiHbYjLhkmJg4mjpCNuLupEa55U3t6GWMfhftgtSct+jJ8leMMHn21DFmFjwnS2FU6DC6X0xMmUqSRiA03krKLZVoyYxTLckQ6LzvikmFi4mDiCNqQi+VCcjPgHHgnnA//Fq6UJNBrt0pj7HK68Meco3jytRJkFfUXpLHb8ZShNaeUNII9y5Q82LTMEp4xWaMXRfqSaHXFxMHE4TH4Rgym++wpOGeO6+llTHoC7qOHvOI3tnXj95vqMGFpIbKKHxKkUVgx1SuMkXyCDZNoDTdY+ZglvB3riWRrR1wyTEwcTByGjLrb5YIrIxXOR++As/9tcG1NBi0hojZIBxracf/qGkxfVojMkp6vwUuqZ3uFUYeP5LVMySOZTyzTYkzc44ilvmnzkukfEwcTR0DD7j5xFM6pw3p6GdNHwX3quE+cvPpm3JFUiedXFCLjM9LYt/9Fn3Ba5YyUW6bkkcoj1ukwJiaOWOucOj+Z/jFxMHH4Ne5upxOutFVw9rsVzsd+B1f2Ft15iuSKs7h5SQUWrizCjs9Io+LAy37TVStnpK5lSh6pPGKdDmNi4oi1zqnzk+kfEwcTh66Bdx8+AOcfBvX0MuZMhLvR97sL+hL8xYITgjSWrSrGzpKeOY19B+brpqlWykhfy5Q80nnFKj3GxMQRK13Ty0emf0wcTBxeRt7d1QXX2lfhfOhmOAfdDXdBtm4vo6PbhYmZ9bhlSSVWri7Brs9Iw3EwdsNTamWXKbk6nJWuGRMTRzz1VaZ/TBxMHB7icNdWwDm6v+hluF6eAXdLz6KEWuVtbO/GE2kHcduSSqxdXY784p5XbksPvuBJSxsn2m6Zkkc772ilz5iYOKKlW0bSlekfEwcTB9ztbXAtexHOvr+Bc+h9cJft8UsA9U0deHBdLf53WRXWr6tBUeHj4pXbogN/9BvHiJKGG0am5OGmHa/4jImJI166R/nK9I+JI8GJw11eBOeT9/f0Ml6bC3d7z6KEegrrONmKu1ZUoc+KGmxcdxClu4cI0sitGa87nKWXRrT8ZEoerTyjnS5jYuKIto7J0pfpn+mJo66uDtOmTcPAgQPR1tbmt7wnT57ElClTMGnSJOTn5/sNp3fDn/BkgvMXx+z+Cib3+Ra4Fs7smfwe+TDcVQ5pjyG7rgm3LK3EY8kHsGn9YThyh4n9wTMqn4TL3S2NGwuZKLhikVes8mBMTByx0jW9fGT6p2dH1X6fUzvice1yuYRRmjdvnl/iuHbtmiCMCxcu4OOPP8aMGTNA8YweekIjP5ng/MUxuz9hchfugnNIbzgfvAmu1Yvg7uqUGv4NlQ24aUkFRqbVYUvKUZRmjsEqRy9srngcXc52adxYycOudRUr+cUqHzvWE8nOjrhkmALZ1rgTh1JAGXG0tLRgwYIFSlDk5eWJn8cjwIW/RiMTnL84ZvZ3NzXgzQV/7OlljHsc7rpaqdGnNamWFJ/Cb5ZUYPL2emzbeAoFaU8jxXEP1pf3RXv3OWn8WMrCbnVFsmNM3OOIZRvS5iXTvwAmFZYgjkOHDiE5OdmDpaamBqmpqR639qK8vBwzZ84UP7pHAtL7UU9Gz9+qfn927BEf813K3Igr778vxfbBh1fwcnGjII2X9jQgJ70ZWWvnIKO8D1Y57sHrF89J48daRnarK5IfY9Jvl7HWLSP5JVpdaW2q1h0T4pg/fz6eeeYZn9+RI0c85ZH1OIIlDk+in11omVZxk8Io13Y4Uw/iA9dfV7H1h6nT6cLkHfWCNBYXnsLO9HPYlLQIReU9y4eiWwAAD0RJREFU60/VN0Zmu1d/+Yfib7e6IhkwJu5xhNIWIhVHpn9aG6p1x4Q4tJnquWXEwUNVxhuYTBlI4c53OjFi6yFBGuvLzyI3sxnrXl2NuvJHxRtUjhMrTEmmgXBFqjHFMh3GZFyvY1kvenklWl3p2Wi1nyWI45NPPsHEiRPx5ptveibHnU6nGof0Wk8RyC/RlKGhrRsDNh7Ab1+rQMb+RhTknEfSom1oKH5C7BOeffDpuL92y3VlHWOqV1d2bFOJaCukBhWI/xxHfX09xo0bhyFDhmDMmDGeSfC3334bixYt8pT/+PHjntdxc3NzPf5GLvQUPNGU4URLp/iwj1a43XOkGUV557FsYQHO7BqJjY57kFL5KDqd503Z20i0uvKnr1bwZ+KwDvHL6iqQXTVNjyNQQcO576/ByQTnL47Z/fUw1Z/rQJ/VNbhzRRUqTrWirLAVKxZXoXrLeOze9wCWO3rjTGuNaUmDZK6Hy+x1Eah8jMkeRjZQPZv1vkz/AtlbJo7XraO8RhRQqwwHG9rRa2U1eq2qBl3X7GvH6tfqsWvdMzhR2TOvUXk61dSkQbi1uIzIwuxhGJN12l6i1RUTRwIvOVJ1uk30MvqsqcGRpk4cPtiJdUtPImXZPLxZ+QRWOXoj8+AU085rqA1/ojVcNXYrXduxnkj+dsQlw8TEkaDEUXaiFXckVYl5DZrfOHmsC+uTzmLZ4hV4s2QEdpT3xep9D6C1y3cfDjMaKpmSm7G8RsrEmLjHYURPohVGpn9MHAlIHIVHW3Dbskr0X78fZ1q70Hi2GxtXNWLZq+k4nT0WRyoeE6/e7m/YYfohKqXRyJRcCWO1M2Ni4oinzsr0j4kjwYjD0fg6bllagYEbD+BcezfOtzixae05rF5Wgj3rJ+Kd6iewqvxe7KibaokhKqVhyZRcCWO1M2Ni4oinzsr0j4kjgYhj16Fm8Y3G7zfVoaXTic5OF9I3NiF5+SGkLJ2Bj6qHYXfVE1hZ3gctnSct09ugxiVT8ng2vnDyZkxMHOHoT7hxZfrHxJFAxHHqfBee33MGbV0uuFxu7NreguSkU1i6eCEulo3E+ZrRPV+Hn1xjKdKgBiJT8nAbULziMyYmjnjpXqA2xcSRQMShKAOtWVW8uxXJyxqwakUKju0YhyvVw5BaNQgbqgfD6ZIvsx5PZfaXNxtZaxhZO9aT0q786aZV/WV1xcSRgMRRW9GO9UmN2LRxNzJWTsHHNcNQXz9X9Dbqmwos19tIxIZrR2NkVUyJqH9MHAlGHK3NlwRpZGypw+KX/oi/VI7E5cNzkFz5OLbsH2OpCXG1oZE9HanDWemaMVmjF8XE4Usj/OW4jb4cP9fQjdRV55Cx6axY56ut4Cl8VDsGVSdXid7GifPlluxtJGLDtRIBqstqRzJMRP3zpQpvHyYOGxHH6ZPdyN7airS0zchfN0kMUf3fuVysq3wEGQcnW5Y0ErHhqo2xla6ZOOzRi/KmCV8XE4eNiIMMDG2O9cqL0/Fh9Uj85egC7D+bIXobx1vKmDhMVtd2NLJ2xJSIDy6+VOHtw8RhMmMSztNlY2MjXnhhLjoKJ4ohqj91nkVqzVBsqh1p2bkNRR52NEiMyR5P54qOWu0s0z9vmvB1MXHYiDj279+Pgo3PiiGqS+dycay5WPQ26hpzLN3boAYpU3KrNVilvIyJiUPRhXicZfrnSxXePkwcNiKON7qbcPXAOLxf/wJed7uw89CzWFvRDy53NxOHCetZ1nDjYUgikacdMZFc7IhLhsmbJnxdTBwmNCihNuCLzcW4un8sLnSeQkd3M1aU34Oi469ZnjQSseGGqgPxjiczRvEuWzj52xGXDJMvVXj7MHHYiDioYXz0/iVBFFVnNolhqsb2w0wcJq1jWcMNx8jFM64dMYl29dFHtmhHat2Q1ZU3Tfi6mDhMalTUFRzMtaIMW/c/hc21o2yj7AquYGRh9rCMiec44qmjMv3zpQpvHyYOGxJHW1cjkhy94Di1lonDxPUra7jxNCjh5G1HTCQPO+KSYfKmCV8XE4eJDUsoDZiUYX9Dz7cbje2HmDhMXL+yhhtK3Zshjh0xMXEwcXgZUjsqOWHKPjQD66sGWv7bDbUhtGtdqTHa4dqO9cTEwcRhe+K4cuUK1lQ8jPwjL3lhtbpRsqNBYkw8xxHPdinTP1+q8PbhoSoTD2WEolQX3mkXb1Ptb8hk4jB53coabih1b4Y4dsREcrUjLhkmb5rwdTFxmNy4BGsMTnUXCuJo6jjKxGHyupU13GDr3Szh7YiJiYOJw8uY2lHJHQ1JWL3vQbjdLi+sZjEsoZbDjnXFmHioKtT2EIl4Mv3zpQpvn7j3OOrq6jBt2jQMHDgQbW1t3qVTuSZMmIBnnnkGM2bMwMyZM1V3Al/6E7JMcP7imN1/55HpYsMms5cz2PLZsa4YExNHsO0gkuFl+hfIqsadOFyunifjefPmBSSOy5cvB8Kje9+fsGWC8xfH7P4bagYjt36urXobJHM71hVjYuKIpz2R6Z+uIVV5xp04lLIwcYTfiLpdnWJ+w3FyDROHyec3mAzD1/dYGl2ZkY1lOSKZlwyTYpf9nS1FHM8++yzoV15e7g+P8Kf7NJylDGmRgPR+165d0/XXC2sFv4uX3YI4TnbtsRUukr3d6oox6bdJs7azRNM/qYEFEBPimD9/vpifoDkK9Y92q1OOQD2Ot99+WwT985//LOY5aNMio4c/liYl9XfPiv7n2usFcRw+l2crXFQXdqsrxsQ9jnjbGFmbCmRbY0IcgQpB9wMRhzqN7OxsFBQUqL2k1/4qSCY4f3HM7H+6tVoQx7GWEiYOHqqKiw7YrU0p7d2OuGSYpAY1Vj2OQIWg+zLi+PDDD/HBBx+IZOj6ueeew8mTJ40kK8Iola89ywSnDWsFNxFGkuNuEIFYobzBlNFudUXYGZN1eh2JVleBjGvcexz19fUYN24chgwZgjFjxmDBggWizDQ0tWjRInF94cIFMTxFr+LSq7u5ubmBcHnd92eg7KYMNERFxGGXPTjU9Wa3umLisA5pJGJdeRlQHUfciUOnTOzFEmAJsARYAiaWQEITh/LWlYnrJ+ii2RETCcGOuBhT0OodtwhcV96iZ+LwloflXXZUcKoUO+JiTNZpblxX3nXFxOEtD8u77KjgVCl2xMWYrNPcuK686yqhiSPQh4TeorKGy46YSPJ2xMWYrNGmWP986ymhicNXHOzDEmAJsARYAoEkwMQRSEJ8nyXAEmAJsAS8JMDE4SUOdrAEWAIsAZZAIAkkFHHEYu+PQAKP9H2jmOhL+ylTpmDSpEnIz8+PdDEint57770HWuNs8uTJ4kxuvYP2caEPQ+m3ePFivSBx9wsk+6tXryIpKUnUzezZs/Hmm2/GvcyBChAIU1VVFUaNGuWpm3379gVKMu73165di9GjR4v19PQK8+mnnyItLU3U0/Tp09He3q4XzFR+gTA1NDRg2LBhnnrKyckxVP6EIo5Y7P1hSOoRDGQEE63sSYRBX+B//PHHQkkonpmP9PR0D8ER0ZFb7xg6dKiet2n8jMi+tLQUKSkposwHDhwQJGIaADoFMYKJiCM1NVUntnm9aOFUIgNaiFXvOH78OBYuXAgikJaWFhDJm/0IhImI45VXXgkaRkIRhyId2bpYFIZ2Gwx10yglj1ifZZhIyZWlXKhceXl54hfrMgaTH/WOLl26JKLQmdx6h9mJw4jsqW4oHB2ffPKJeFIn42TWwwgmKxIHyZt6e/6Ig8h9//79nmpR66jH04QXMkxMHEFUmMzIUjJEHEb3/ggi26gGlWE6dOgQkpOTPfnX1NSY/mlw+PDhnvKSEVW7PTcADBo0SHzjMWfOHNC6Z2Y7jMieDNXFixc9RafeoZkfXIxgIuIYO3YsaEhn6dKleOuttzz4zHwhM7L0ZN7U1OQp/ksvvSTdtdQTMM4XMkxEHCNHjhSjENSbcjqdhkprux5HvPf+MCT1IAOFi8lIQw+ySBEJLsOlJYoRI0bo5qns00LDcET4b7zxhm64eHkakb0diePdd98Fzd3Q4XA48OKLL8arCoLKV2Zk7Ugc77//PmjFcTpoKI7mFI0ctiMOI6BlT+fa+MHu/aGNHyu3DJORoYVYldNoPuphANlQlTq9NWvWgAy1mQ4jsrfjUJW6DmhOhCZgrXDIiMOOQ1XaOjE6TM/EoZFcuHt/aJKLmVNGHDRuPnHiRDF+q0yOG+2SxgyAJqNt27YFnBynN62Up1oa2qGnJbNN+huRfUlJidfk+LJlyzTSMJfTCCZlfopKTkOINJRohUNGHNrJ8VmzZlkBknTe5p133hGT/QSktbUV48eP97hl4BKKOGKx94dM2NG4ZwQT5UtKT0/xNH4e7H4m0Sh3oDRpqIPGkLWv47a1tXnma5qbm8VEJr2KS8M9FRUVgZKNy3092WdlZeHo0aOiPLTXCJEF1Q0ZIxp2M/sRCFNGRobYO4fqhoap3G632SFh+fLlYl5m8ODBYo8g0qeysjLxo8LTXNvGjRtFPZG+kS6a/QiEiR5aaI8jqicid2pTRo6EIg4jAuEwLAGWAEuAJSCXABOHXD58lyXAEmAJsAQ0EmDi0AiEnSwBlgBLgCUglwATh1w+fJclwBJgCbAENBJg4tAIhJ0sAZYAS4AlIJcAE4dcPnyXJcASYAmwBDQSYOLQCISdLAGWAEuAJSCXABOHXD58lyXAEmAJsAQ0EmDi0AiEnSwBlgBLgCUglwATh1w+fJclEFEJ0CKMtGCjsgkQLdJIGx7RKqV8sASsIgEmDqvUFJfTNhIoLy/H1KlTceXKFbFPytatW22DjYEkhgSYOBKjnhmlySRA29zSeke0X4WyUKPJisjFYQn4lQATh1/R8A2WQPQkQAscDhgwANT74IMlYDUJMHFYrca4vJaXAC3dTyvh0q6MTz31FGh5eD5YAlaSABOHlWqLy2oLCaxbtw5JSUkCy/r168WS6rYAxiASRgJMHAlT1QzUDBI4cuSIVy9D6X3U1taaoXhcBpaAIQkwcRgSEwdiCbAEWAIsAUUCTByKJPjMEmAJsARYAoYkwMRhSEwciCXAEmAJsAQUCTBxKJLgM0uAJcASYAkYkgAThyExcSCWAEuAJcASUCTAxKFIgs8sAZYAS4AlYEgCTByGxMSBWAIsAZYAS0CRABOHIgk+swRYAiwBloAhCTBxGBITB2IJsARYAiwBRQL/HzzzL2x+cdeiAAAAAElFTkSuQmCC)\n",
        "## Taylor series calculation of asin(x)                        \n",
        "\n",
        "  Enter argument (x): 0.75                           \n",
        "  Standard asin(0.75) =   0.85                                    \n",
        "\n",
        "| k  | k=0      | k=1      | k=2      | k=3      | k=4      |   \n",
        "| --:|:--------:|:--------:|:--------:|:--------:| --------:|     \n",
        "| a  | a0=0.75  | a1=0.07  | a2=0.02  | a3=0.01  | a4=0.00  |      \n",
        "| S  | S0=0.75  | S1=0.82  | S2=0.84  | S3=0.84  | S4=0.85  |     \n",
        "\n",
        "   ### The Final answer\n",
        "       my asin(0.75) =   0.85\n",
        " \n",
        "\n"
      ]
    }
  ]
}