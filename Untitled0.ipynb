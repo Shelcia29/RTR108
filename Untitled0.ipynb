{
  "nbformat": 4,
  "nbformat_minor": 0,
  "metadata": {
    "colab": {
      "name": "Untitled0.ipynb",
      "provenance": [],
      "collapsed_sections": [],
      "authorship_tag": "ABX9TyNLImrKdNMnKDRXWxBmRuxd",
      "include_colab_link": true
    },
    "kernelspec": {
      "name": "python3",
      "display_name": "Python 3"
    }
  },
  "cells": [
    {
      "cell_type": "markdown",
      "metadata": {
        "id": "view-in-github",
        "colab_type": "text"
      },
      "source": [
        "<a href=\"https://colab.research.google.com/github/Shelcia29/RTR108/blob/master/Untitled0.ipynb\" target=\"_parent\"><img src=\"https://colab.research.google.com/assets/colab-badge.svg\" alt=\"Open In Colab\"/></a>"
      ]
    },
    {
      "cell_type": "code",
      "metadata": {
        "id": "hVIFKv3rS_7q",
        "colab_type": "code",
        "colab": {
          "base_uri": "https://localhost:8080/",
          "height": 34
        },
        "outputId": "083a4b6c-f994-454b-c50a-f939acd25baa"
      },
      "source": [
        "print(\"hello world\")"
      ],
      "execution_count": 1,
      "outputs": [
        {
          "output_type": "stream",
          "text": [
            "hello world\n"
          ],
          "name": "stdout"
        }
      ]
    },
    {
      "cell_type": "code",
      "metadata": {
        "id": "YKgJ26hvUMSc",
        "colab_type": "code",
        "colab": {
          "base_uri": "https://localhost:8080/",
          "height": 68
        },
        "outputId": "ec1b9e40-cb1f-4699-d178-4e0923c97fb0"
      },
      "source": [
        "hrs=input(\"Enter Hour:\")\n",
        "\n",
        "rate=input(\"Eenter Rate per Hour:\")\n",
        "\n",
        "pay=float(hrs)*float(rate)\n",
        "\n",
        "print(\"Pay:\", pay)"
      ],
      "execution_count": 2,
      "outputs": [
        {
          "output_type": "stream",
          "text": [
            "Enter Hour:35\n",
            "Eenter Rate per Hour:2.75\n",
            "Pay: 96.25\n"
          ],
          "name": "stdout"
        }
      ]
    },
    {
      "cell_type": "code",
      "metadata": {
        "id": "shHMtt1PWb7f",
        "colab_type": "code",
        "colab": {
          "base_uri": "https://localhost:8080/",
          "height": 68
        },
        "outputId": "b2384043-5ac9-4cad-d8be-dd973214a5ba"
      },
      "source": [
        "hrs = input(\"Enter Hours:\")\n",
        "h = float(hrs)\n",
        "x = input(\"Enter the Rate:\")\n",
        "y = float(x)\n",
        "if h <= 40:\n",
        " \tprint( h  * y)\n",
        "elif h > 40:\n",
        "\tprint(40* y + (h-40)*1.5*y)"
      ],
      "execution_count": 3,
      "outputs": [
        {
          "output_type": "stream",
          "text": [
            "Enter Hours:45\n",
            "Enter the Rate:10.50\n",
            "498.75\n"
          ],
          "name": "stdout"
        }
      ]
    },
    {
      "cell_type": "code",
      "metadata": {
        "id": "Zp4XdL6NWn3C",
        "colab_type": "code",
        "colab": {
          "base_uri": "https://localhost:8080/",
          "height": 51
        },
        "outputId": "968dc1f9-5700-4cd7-ba7f-ca03e7350601"
      },
      "source": [
        "score = input(\"enter a score:\")\n",
        "s = float(score)\n",
        "if 0.0 <= s <= 1.0:\n",
        "    if s >= 0.9:\n",
        "        result = \"A\"\n",
        "        print (\"A\")\n",
        "    elif 0.8 <= s < 0.9:\n",
        "        result = \"B\"\n",
        "        print (\"B\")\n",
        "    elif 0.7 <= s < 0.8:\n",
        "        result = \"C\"\n",
        "        print (\"C\")\n",
        "    elif 0.6 <= s < 0.7:\n",
        "        result = \"D\"\n",
        "        print (\"D\")\n",
        "    else:\n",
        "        result = \"F\"\n",
        "        print (\"F\")\n",
        "else:\n",
        "    print (\"Error: score out of range\")"
      ],
      "execution_count": 5,
      "outputs": [
        {
          "output_type": "stream",
          "text": [
            "enter a score:0.85\n",
            "B\n"
          ],
          "name": "stdout"
        }
      ]
    },
    {
      "cell_type": "code",
      "metadata": {
        "id": "qXvRTcucaMH_",
        "colab_type": "code",
        "colab": {
          "base_uri": "https://localhost:8080/",
          "height": 68
        },
        "outputId": "ee7ef33d-ed6c-4da2-bb58-2f29ea8aa3c5"
      },
      "source": [
        "def computepay(h,r):\n",
        "    if h > 40:\n",
        "     p = 1.5 * r * (h - 40) + (40 *r)\n",
        "    else:\n",
        "     p = h * r\n",
        "    return p\n",
        "\n",
        "hrs = input(\"Enter Hours:\")\n",
        "hr = float(hrs)\n",
        "rphrs = input(\"Enter rate per hour:\")\n",
        "rphr = float(rphrs)\n",
        "\n",
        "p = computepay(hr,rphr)\n",
        "print(\"Pay\", p)"
      ],
      "execution_count": 6,
      "outputs": [
        {
          "output_type": "stream",
          "text": [
            "Enter Hours:45\n",
            "Enter rate per hour:10.50\n",
            "Pay 498.75\n"
          ],
          "name": "stdout"
        }
      ]
    },
    {
      "cell_type": "code",
      "metadata": {
        "id": "qFZAT_N3c-3a",
        "colab_type": "code",
        "colab": {
          "base_uri": "https://localhost:8080/",
          "height": 170
        },
        "outputId": "116f8e96-1f38-478d-f15c-d9ecb82114b1"
      },
      "source": [
        "largest = None\n",
        "smallest = None\n",
        "while True:\n",
        "    num = input(\"Enter a number:\")\n",
        "    if num == \"done\": break\n",
        "    try: \n",
        "       nom = int(num)\n",
        "    except: \n",
        "       print (\"Invalid input:\")\n",
        "       continue\n",
        "\n",
        "    if largest is None:\n",
        "        largest = nom\n",
        "    elif nom >  largest:\n",
        "        largest = nom\n",
        "\n",
        "    if smallest is None:\n",
        "        smallest = nom\n",
        "    elif nom < smallest:\n",
        "        smallest = nom\n",
        "\n",
        "\n",
        "print (\"Maximum is:\", largest)\n",
        "print (\"Minimum is:\", smallest)"
      ],
      "execution_count": 19,
      "outputs": [
        {
          "output_type": "stream",
          "text": [
            "Enter a number:7\n",
            "Enter a number:2\n",
            "Enter a number:bob\n",
            "Invalid input:\n",
            "Enter a number:10\n",
            "Enter a number:4\n",
            "Enter a number:done\n",
            "Maximum is: 10\n",
            "Minimum is: 2\n"
          ],
          "name": "stdout"
        }
      ]
    },
    {
      "cell_type": "code",
      "metadata": {
        "id": "7_udutsEgbSP",
        "colab_type": "code",
        "colab": {
          "base_uri": "https://localhost:8080/",
          "height": 34
        },
        "outputId": "e94cb203-0259-48ee-bfb1-9a1a2764c2fa"
      },
      "source": [
        "text = \"X-DSPAM-Confidence:    0.8475\"\n",
        "pos0 = text.find(':')\n",
        "str_num = text[pos0+1:]\n",
        "num_float = float(str_num)\n",
        "print(num_float)"
      ],
      "execution_count": 20,
      "outputs": [
        {
          "output_type": "stream",
          "text": [
            "0.8475\n"
          ],
          "name": "stdout"
        }
      ]
    }
  ]
}